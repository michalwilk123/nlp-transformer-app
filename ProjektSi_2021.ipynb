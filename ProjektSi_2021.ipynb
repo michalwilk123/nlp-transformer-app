{
  "nbformat": 4,
  "nbformat_minor": 0,
  "metadata": {
    "colab": {
      "name": "ProjektSi_2021.ipynb",
      "provenance": [],
      "collapsed_sections": [],
      "include_colab_link": true
    },
    "kernelspec": {
      "name": "python3",
      "display_name": "Python 3"
    },
    "language_info": {
      "name": "python"
    },
    "widgets": {
      "application/vnd.jupyter.widget-state+json": {
        "a936b488bd0c407dbdf95504c995366e": {
          "model_module": "@jupyter-widgets/controls",
          "model_name": "HBoxModel",
          "state": {
            "_view_name": "HBoxView",
            "_dom_classes": [],
            "_model_name": "HBoxModel",
            "_view_module": "@jupyter-widgets/controls",
            "_model_module_version": "1.5.0",
            "_view_count": null,
            "_view_module_version": "1.5.0",
            "box_style": "",
            "layout": "IPY_MODEL_bcb9031638064722af3aa122bc15dc4b",
            "_model_module": "@jupyter-widgets/controls",
            "children": [
              "IPY_MODEL_474fc4314ce2452b8bcdf8fc656c8e11",
              "IPY_MODEL_1bb2ebadc9614d76b5762e50b7e84ce8"
            ]
          }
        },
        "bcb9031638064722af3aa122bc15dc4b": {
          "model_module": "@jupyter-widgets/base",
          "model_name": "LayoutModel",
          "state": {
            "_view_name": "LayoutView",
            "grid_template_rows": null,
            "right": null,
            "justify_content": null,
            "_view_module": "@jupyter-widgets/base",
            "overflow": null,
            "_model_module_version": "1.2.0",
            "_view_count": null,
            "flex_flow": null,
            "width": null,
            "min_width": null,
            "border": null,
            "align_items": null,
            "bottom": null,
            "_model_module": "@jupyter-widgets/base",
            "top": null,
            "grid_column": null,
            "overflow_y": null,
            "overflow_x": null,
            "grid_auto_flow": null,
            "grid_area": null,
            "grid_template_columns": null,
            "flex": null,
            "_model_name": "LayoutModel",
            "justify_items": null,
            "grid_row": null,
            "max_height": null,
            "align_content": null,
            "visibility": null,
            "align_self": null,
            "height": null,
            "min_height": null,
            "padding": null,
            "grid_auto_rows": null,
            "grid_gap": null,
            "max_width": null,
            "order": null,
            "_view_module_version": "1.2.0",
            "grid_template_areas": null,
            "object_position": null,
            "object_fit": null,
            "grid_auto_columns": null,
            "margin": null,
            "display": null,
            "left": null
          }
        },
        "474fc4314ce2452b8bcdf8fc656c8e11": {
          "model_module": "@jupyter-widgets/controls",
          "model_name": "FloatProgressModel",
          "state": {
            "_view_name": "ProgressView",
            "style": "IPY_MODEL_a310cd7ab68d4f8a935f6fa2446d00d0",
            "_dom_classes": [],
            "description": "Downloading: 100%",
            "_model_name": "FloatProgressModel",
            "bar_style": "success",
            "max": 523,
            "_view_module": "@jupyter-widgets/controls",
            "_model_module_version": "1.5.0",
            "value": 523,
            "_view_count": null,
            "_view_module_version": "1.5.0",
            "orientation": "horizontal",
            "min": 0,
            "description_tooltip": null,
            "_model_module": "@jupyter-widgets/controls",
            "layout": "IPY_MODEL_ba27f5c4ffb7489680d28ecf7951c6ea"
          }
        },
        "1bb2ebadc9614d76b5762e50b7e84ce8": {
          "model_module": "@jupyter-widgets/controls",
          "model_name": "HTMLModel",
          "state": {
            "_view_name": "HTMLView",
            "style": "IPY_MODEL_2d95b3c13aee46c694a8ce49a60cab5a",
            "_dom_classes": [],
            "description": "",
            "_model_name": "HTMLModel",
            "placeholder": "​",
            "_view_module": "@jupyter-widgets/controls",
            "_model_module_version": "1.5.0",
            "value": " 523/523 [00:07&lt;00:00, 68.2B/s]",
            "_view_count": null,
            "_view_module_version": "1.5.0",
            "description_tooltip": null,
            "_model_module": "@jupyter-widgets/controls",
            "layout": "IPY_MODEL_442072f1973e47f4a170af7201cc7e64"
          }
        },
        "a310cd7ab68d4f8a935f6fa2446d00d0": {
          "model_module": "@jupyter-widgets/controls",
          "model_name": "ProgressStyleModel",
          "state": {
            "_view_name": "StyleView",
            "_model_name": "ProgressStyleModel",
            "description_width": "initial",
            "_view_module": "@jupyter-widgets/base",
            "_model_module_version": "1.5.0",
            "_view_count": null,
            "_view_module_version": "1.2.0",
            "bar_color": null,
            "_model_module": "@jupyter-widgets/controls"
          }
        },
        "ba27f5c4ffb7489680d28ecf7951c6ea": {
          "model_module": "@jupyter-widgets/base",
          "model_name": "LayoutModel",
          "state": {
            "_view_name": "LayoutView",
            "grid_template_rows": null,
            "right": null,
            "justify_content": null,
            "_view_module": "@jupyter-widgets/base",
            "overflow": null,
            "_model_module_version": "1.2.0",
            "_view_count": null,
            "flex_flow": null,
            "width": null,
            "min_width": null,
            "border": null,
            "align_items": null,
            "bottom": null,
            "_model_module": "@jupyter-widgets/base",
            "top": null,
            "grid_column": null,
            "overflow_y": null,
            "overflow_x": null,
            "grid_auto_flow": null,
            "grid_area": null,
            "grid_template_columns": null,
            "flex": null,
            "_model_name": "LayoutModel",
            "justify_items": null,
            "grid_row": null,
            "max_height": null,
            "align_content": null,
            "visibility": null,
            "align_self": null,
            "height": null,
            "min_height": null,
            "padding": null,
            "grid_auto_rows": null,
            "grid_gap": null,
            "max_width": null,
            "order": null,
            "_view_module_version": "1.2.0",
            "grid_template_areas": null,
            "object_position": null,
            "object_fit": null,
            "grid_auto_columns": null,
            "margin": null,
            "display": null,
            "left": null
          }
        },
        "2d95b3c13aee46c694a8ce49a60cab5a": {
          "model_module": "@jupyter-widgets/controls",
          "model_name": "DescriptionStyleModel",
          "state": {
            "_view_name": "StyleView",
            "_model_name": "DescriptionStyleModel",
            "description_width": "",
            "_view_module": "@jupyter-widgets/base",
            "_model_module_version": "1.5.0",
            "_view_count": null,
            "_view_module_version": "1.2.0",
            "_model_module": "@jupyter-widgets/controls"
          }
        },
        "442072f1973e47f4a170af7201cc7e64": {
          "model_module": "@jupyter-widgets/base",
          "model_name": "LayoutModel",
          "state": {
            "_view_name": "LayoutView",
            "grid_template_rows": null,
            "right": null,
            "justify_content": null,
            "_view_module": "@jupyter-widgets/base",
            "overflow": null,
            "_model_module_version": "1.2.0",
            "_view_count": null,
            "flex_flow": null,
            "width": null,
            "min_width": null,
            "border": null,
            "align_items": null,
            "bottom": null,
            "_model_module": "@jupyter-widgets/base",
            "top": null,
            "grid_column": null,
            "overflow_y": null,
            "overflow_x": null,
            "grid_auto_flow": null,
            "grid_area": null,
            "grid_template_columns": null,
            "flex": null,
            "_model_name": "LayoutModel",
            "justify_items": null,
            "grid_row": null,
            "max_height": null,
            "align_content": null,
            "visibility": null,
            "align_self": null,
            "height": null,
            "min_height": null,
            "padding": null,
            "grid_auto_rows": null,
            "grid_gap": null,
            "max_width": null,
            "order": null,
            "_view_module_version": "1.2.0",
            "grid_template_areas": null,
            "object_position": null,
            "object_fit": null,
            "grid_auto_columns": null,
            "margin": null,
            "display": null,
            "left": null
          }
        },
        "1506cfea33f04406a658276ca305761f": {
          "model_module": "@jupyter-widgets/controls",
          "model_name": "HBoxModel",
          "state": {
            "_view_name": "HBoxView",
            "_dom_classes": [],
            "_model_name": "HBoxModel",
            "_view_module": "@jupyter-widgets/controls",
            "_model_module_version": "1.5.0",
            "_view_count": null,
            "_view_module_version": "1.5.0",
            "box_style": "",
            "layout": "IPY_MODEL_9f63be42e544492f814149d317ed019e",
            "_model_module": "@jupyter-widgets/controls",
            "children": [
              "IPY_MODEL_69e42fe103724cdba7ef803d1a719f05",
              "IPY_MODEL_c572bc9081cf4f34b0093ac1fcff06c6"
            ]
          }
        },
        "9f63be42e544492f814149d317ed019e": {
          "model_module": "@jupyter-widgets/base",
          "model_name": "LayoutModel",
          "state": {
            "_view_name": "LayoutView",
            "grid_template_rows": null,
            "right": null,
            "justify_content": null,
            "_view_module": "@jupyter-widgets/base",
            "overflow": null,
            "_model_module_version": "1.2.0",
            "_view_count": null,
            "flex_flow": null,
            "width": null,
            "min_width": null,
            "border": null,
            "align_items": null,
            "bottom": null,
            "_model_module": "@jupyter-widgets/base",
            "top": null,
            "grid_column": null,
            "overflow_y": null,
            "overflow_x": null,
            "grid_auto_flow": null,
            "grid_area": null,
            "grid_template_columns": null,
            "flex": null,
            "_model_name": "LayoutModel",
            "justify_items": null,
            "grid_row": null,
            "max_height": null,
            "align_content": null,
            "visibility": null,
            "align_self": null,
            "height": null,
            "min_height": null,
            "padding": null,
            "grid_auto_rows": null,
            "grid_gap": null,
            "max_width": null,
            "order": null,
            "_view_module_version": "1.2.0",
            "grid_template_areas": null,
            "object_position": null,
            "object_fit": null,
            "grid_auto_columns": null,
            "margin": null,
            "display": null,
            "left": null
          }
        },
        "69e42fe103724cdba7ef803d1a719f05": {
          "model_module": "@jupyter-widgets/controls",
          "model_name": "FloatProgressModel",
          "state": {
            "_view_name": "ProgressView",
            "style": "IPY_MODEL_3cc2c73713254ee68888be1769757462",
            "_dom_classes": [],
            "description": "Downloading: 100%",
            "_model_name": "FloatProgressModel",
            "bar_style": "success",
            "max": 267985760,
            "_view_module": "@jupyter-widgets/controls",
            "_model_module_version": "1.5.0",
            "value": 267985760,
            "_view_count": null,
            "_view_module_version": "1.5.0",
            "orientation": "horizontal",
            "min": 0,
            "description_tooltip": null,
            "_model_module": "@jupyter-widgets/controls",
            "layout": "IPY_MODEL_d1c6e47b79784e29a14b29d059450cd4"
          }
        },
        "c572bc9081cf4f34b0093ac1fcff06c6": {
          "model_module": "@jupyter-widgets/controls",
          "model_name": "HTMLModel",
          "state": {
            "_view_name": "HTMLView",
            "style": "IPY_MODEL_25a5a63996a4414eb85b39d6b8457829",
            "_dom_classes": [],
            "description": "",
            "_model_name": "HTMLModel",
            "placeholder": "​",
            "_view_module": "@jupyter-widgets/controls",
            "_model_module_version": "1.5.0",
            "value": " 268M/268M [00:07&lt;00:00, 37.9MB/s]",
            "_view_count": null,
            "_view_module_version": "1.5.0",
            "description_tooltip": null,
            "_model_module": "@jupyter-widgets/controls",
            "layout": "IPY_MODEL_003273e1fdd6425aa2010138631a6a15"
          }
        },
        "3cc2c73713254ee68888be1769757462": {
          "model_module": "@jupyter-widgets/controls",
          "model_name": "ProgressStyleModel",
          "state": {
            "_view_name": "StyleView",
            "_model_name": "ProgressStyleModel",
            "description_width": "initial",
            "_view_module": "@jupyter-widgets/base",
            "_model_module_version": "1.5.0",
            "_view_count": null,
            "_view_module_version": "1.2.0",
            "bar_color": null,
            "_model_module": "@jupyter-widgets/controls"
          }
        },
        "d1c6e47b79784e29a14b29d059450cd4": {
          "model_module": "@jupyter-widgets/base",
          "model_name": "LayoutModel",
          "state": {
            "_view_name": "LayoutView",
            "grid_template_rows": null,
            "right": null,
            "justify_content": null,
            "_view_module": "@jupyter-widgets/base",
            "overflow": null,
            "_model_module_version": "1.2.0",
            "_view_count": null,
            "flex_flow": null,
            "width": null,
            "min_width": null,
            "border": null,
            "align_items": null,
            "bottom": null,
            "_model_module": "@jupyter-widgets/base",
            "top": null,
            "grid_column": null,
            "overflow_y": null,
            "overflow_x": null,
            "grid_auto_flow": null,
            "grid_area": null,
            "grid_template_columns": null,
            "flex": null,
            "_model_name": "LayoutModel",
            "justify_items": null,
            "grid_row": null,
            "max_height": null,
            "align_content": null,
            "visibility": null,
            "align_self": null,
            "height": null,
            "min_height": null,
            "padding": null,
            "grid_auto_rows": null,
            "grid_gap": null,
            "max_width": null,
            "order": null,
            "_view_module_version": "1.2.0",
            "grid_template_areas": null,
            "object_position": null,
            "object_fit": null,
            "grid_auto_columns": null,
            "margin": null,
            "display": null,
            "left": null
          }
        },
        "25a5a63996a4414eb85b39d6b8457829": {
          "model_module": "@jupyter-widgets/controls",
          "model_name": "DescriptionStyleModel",
          "state": {
            "_view_name": "StyleView",
            "_model_name": "DescriptionStyleModel",
            "description_width": "",
            "_view_module": "@jupyter-widgets/base",
            "_model_module_version": "1.5.0",
            "_view_count": null,
            "_view_module_version": "1.2.0",
            "_model_module": "@jupyter-widgets/controls"
          }
        },
        "003273e1fdd6425aa2010138631a6a15": {
          "model_module": "@jupyter-widgets/base",
          "model_name": "LayoutModel",
          "state": {
            "_view_name": "LayoutView",
            "grid_template_rows": null,
            "right": null,
            "justify_content": null,
            "_view_module": "@jupyter-widgets/base",
            "overflow": null,
            "_model_module_version": "1.2.0",
            "_view_count": null,
            "flex_flow": null,
            "width": null,
            "min_width": null,
            "border": null,
            "align_items": null,
            "bottom": null,
            "_model_module": "@jupyter-widgets/base",
            "top": null,
            "grid_column": null,
            "overflow_y": null,
            "overflow_x": null,
            "grid_auto_flow": null,
            "grid_area": null,
            "grid_template_columns": null,
            "flex": null,
            "_model_name": "LayoutModel",
            "justify_items": null,
            "grid_row": null,
            "max_height": null,
            "align_content": null,
            "visibility": null,
            "align_self": null,
            "height": null,
            "min_height": null,
            "padding": null,
            "grid_auto_rows": null,
            "grid_gap": null,
            "max_width": null,
            "order": null,
            "_view_module_version": "1.2.0",
            "grid_template_areas": null,
            "object_position": null,
            "object_fit": null,
            "grid_auto_columns": null,
            "margin": null,
            "display": null,
            "left": null
          }
        },
        "95b6312a822142be99cd28ab1036e06d": {
          "model_module": "@jupyter-widgets/controls",
          "model_name": "HBoxModel",
          "state": {
            "_view_name": "HBoxView",
            "_dom_classes": [],
            "_model_name": "HBoxModel",
            "_view_module": "@jupyter-widgets/controls",
            "_model_module_version": "1.5.0",
            "_view_count": null,
            "_view_module_version": "1.5.0",
            "box_style": "",
            "layout": "IPY_MODEL_3e958acd400e449780842a284ff505c6",
            "_model_module": "@jupyter-widgets/controls",
            "children": [
              "IPY_MODEL_1edfa8a7a797422da4182410e701d876",
              "IPY_MODEL_93b0241a9e50457493b81a8aee8925fd"
            ]
          }
        },
        "3e958acd400e449780842a284ff505c6": {
          "model_module": "@jupyter-widgets/base",
          "model_name": "LayoutModel",
          "state": {
            "_view_name": "LayoutView",
            "grid_template_rows": null,
            "right": null,
            "justify_content": null,
            "_view_module": "@jupyter-widgets/base",
            "overflow": null,
            "_model_module_version": "1.2.0",
            "_view_count": null,
            "flex_flow": null,
            "width": null,
            "min_width": null,
            "border": null,
            "align_items": null,
            "bottom": null,
            "_model_module": "@jupyter-widgets/base",
            "top": null,
            "grid_column": null,
            "overflow_y": null,
            "overflow_x": null,
            "grid_auto_flow": null,
            "grid_area": null,
            "grid_template_columns": null,
            "flex": null,
            "_model_name": "LayoutModel",
            "justify_items": null,
            "grid_row": null,
            "max_height": null,
            "align_content": null,
            "visibility": null,
            "align_self": null,
            "height": null,
            "min_height": null,
            "padding": null,
            "grid_auto_rows": null,
            "grid_gap": null,
            "max_width": null,
            "order": null,
            "_view_module_version": "1.2.0",
            "grid_template_areas": null,
            "object_position": null,
            "object_fit": null,
            "grid_auto_columns": null,
            "margin": null,
            "display": null,
            "left": null
          }
        },
        "1edfa8a7a797422da4182410e701d876": {
          "model_module": "@jupyter-widgets/controls",
          "model_name": "FloatProgressModel",
          "state": {
            "_view_name": "ProgressView",
            "style": "IPY_MODEL_2a658320a1e841eaab5592249597445e",
            "_dom_classes": [],
            "description": "Downloading: 100%",
            "_model_name": "FloatProgressModel",
            "bar_style": "success",
            "max": 523,
            "_view_module": "@jupyter-widgets/controls",
            "_model_module_version": "1.5.0",
            "value": 523,
            "_view_count": null,
            "_view_module_version": "1.5.0",
            "orientation": "horizontal",
            "min": 0,
            "description_tooltip": null,
            "_model_module": "@jupyter-widgets/controls",
            "layout": "IPY_MODEL_cdf2a57cd7304dc48ae78abbabc37018"
          }
        },
        "93b0241a9e50457493b81a8aee8925fd": {
          "model_module": "@jupyter-widgets/controls",
          "model_name": "HTMLModel",
          "state": {
            "_view_name": "HTMLView",
            "style": "IPY_MODEL_024cae4d0c7f4d74a314a62e209819bb",
            "_dom_classes": [],
            "description": "",
            "_model_name": "HTMLModel",
            "placeholder": "​",
            "_view_module": "@jupyter-widgets/controls",
            "_model_module_version": "1.5.0",
            "value": " 523/523 [00:07&lt;00:00, 70.3B/s]",
            "_view_count": null,
            "_view_module_version": "1.5.0",
            "description_tooltip": null,
            "_model_module": "@jupyter-widgets/controls",
            "layout": "IPY_MODEL_27a9385367da402fa9a99a743a7bded3"
          }
        },
        "2a658320a1e841eaab5592249597445e": {
          "model_module": "@jupyter-widgets/controls",
          "model_name": "ProgressStyleModel",
          "state": {
            "_view_name": "StyleView",
            "_model_name": "ProgressStyleModel",
            "description_width": "initial",
            "_view_module": "@jupyter-widgets/base",
            "_model_module_version": "1.5.0",
            "_view_count": null,
            "_view_module_version": "1.2.0",
            "bar_color": null,
            "_model_module": "@jupyter-widgets/controls"
          }
        },
        "cdf2a57cd7304dc48ae78abbabc37018": {
          "model_module": "@jupyter-widgets/base",
          "model_name": "LayoutModel",
          "state": {
            "_view_name": "LayoutView",
            "grid_template_rows": null,
            "right": null,
            "justify_content": null,
            "_view_module": "@jupyter-widgets/base",
            "overflow": null,
            "_model_module_version": "1.2.0",
            "_view_count": null,
            "flex_flow": null,
            "width": null,
            "min_width": null,
            "border": null,
            "align_items": null,
            "bottom": null,
            "_model_module": "@jupyter-widgets/base",
            "top": null,
            "grid_column": null,
            "overflow_y": null,
            "overflow_x": null,
            "grid_auto_flow": null,
            "grid_area": null,
            "grid_template_columns": null,
            "flex": null,
            "_model_name": "LayoutModel",
            "justify_items": null,
            "grid_row": null,
            "max_height": null,
            "align_content": null,
            "visibility": null,
            "align_self": null,
            "height": null,
            "min_height": null,
            "padding": null,
            "grid_auto_rows": null,
            "grid_gap": null,
            "max_width": null,
            "order": null,
            "_view_module_version": "1.2.0",
            "grid_template_areas": null,
            "object_position": null,
            "object_fit": null,
            "grid_auto_columns": null,
            "margin": null,
            "display": null,
            "left": null
          }
        },
        "024cae4d0c7f4d74a314a62e209819bb": {
          "model_module": "@jupyter-widgets/controls",
          "model_name": "DescriptionStyleModel",
          "state": {
            "_view_name": "StyleView",
            "_model_name": "DescriptionStyleModel",
            "description_width": "",
            "_view_module": "@jupyter-widgets/base",
            "_model_module_version": "1.5.0",
            "_view_count": null,
            "_view_module_version": "1.2.0",
            "_model_module": "@jupyter-widgets/controls"
          }
        },
        "27a9385367da402fa9a99a743a7bded3": {
          "model_module": "@jupyter-widgets/base",
          "model_name": "LayoutModel",
          "state": {
            "_view_name": "LayoutView",
            "grid_template_rows": null,
            "right": null,
            "justify_content": null,
            "_view_module": "@jupyter-widgets/base",
            "overflow": null,
            "_model_module_version": "1.2.0",
            "_view_count": null,
            "flex_flow": null,
            "width": null,
            "min_width": null,
            "border": null,
            "align_items": null,
            "bottom": null,
            "_model_module": "@jupyter-widgets/base",
            "top": null,
            "grid_column": null,
            "overflow_y": null,
            "overflow_x": null,
            "grid_auto_flow": null,
            "grid_area": null,
            "grid_template_columns": null,
            "flex": null,
            "_model_name": "LayoutModel",
            "justify_items": null,
            "grid_row": null,
            "max_height": null,
            "align_content": null,
            "visibility": null,
            "align_self": null,
            "height": null,
            "min_height": null,
            "padding": null,
            "grid_auto_rows": null,
            "grid_gap": null,
            "max_width": null,
            "order": null,
            "_view_module_version": "1.2.0",
            "grid_template_areas": null,
            "object_position": null,
            "object_fit": null,
            "grid_auto_columns": null,
            "margin": null,
            "display": null,
            "left": null
          }
        },
        "e4e7ce9fae6c4b14b0443b8fd638a74b": {
          "model_module": "@jupyter-widgets/controls",
          "model_name": "HBoxModel",
          "state": {
            "_view_name": "HBoxView",
            "_dom_classes": [],
            "_model_name": "HBoxModel",
            "_view_module": "@jupyter-widgets/controls",
            "_model_module_version": "1.5.0",
            "_view_count": null,
            "_view_module_version": "1.5.0",
            "box_style": "",
            "layout": "IPY_MODEL_b658fda7d2f74b83994cea7138f830ad",
            "_model_module": "@jupyter-widgets/controls",
            "children": [
              "IPY_MODEL_600632775fd942b6bfa443bd1cb488fa",
              "IPY_MODEL_90b10c54b4734b9d848eb06dfb42a47f"
            ]
          }
        },
        "b658fda7d2f74b83994cea7138f830ad": {
          "model_module": "@jupyter-widgets/base",
          "model_name": "LayoutModel",
          "state": {
            "_view_name": "LayoutView",
            "grid_template_rows": null,
            "right": null,
            "justify_content": null,
            "_view_module": "@jupyter-widgets/base",
            "overflow": null,
            "_model_module_version": "1.2.0",
            "_view_count": null,
            "flex_flow": null,
            "width": null,
            "min_width": null,
            "border": null,
            "align_items": null,
            "bottom": null,
            "_model_module": "@jupyter-widgets/base",
            "top": null,
            "grid_column": null,
            "overflow_y": null,
            "overflow_x": null,
            "grid_auto_flow": null,
            "grid_area": null,
            "grid_template_columns": null,
            "flex": null,
            "_model_name": "LayoutModel",
            "justify_items": null,
            "grid_row": null,
            "max_height": null,
            "align_content": null,
            "visibility": null,
            "align_self": null,
            "height": null,
            "min_height": null,
            "padding": null,
            "grid_auto_rows": null,
            "grid_gap": null,
            "max_width": null,
            "order": null,
            "_view_module_version": "1.2.0",
            "grid_template_areas": null,
            "object_position": null,
            "object_fit": null,
            "grid_auto_columns": null,
            "margin": null,
            "display": null,
            "left": null
          }
        },
        "600632775fd942b6bfa443bd1cb488fa": {
          "model_module": "@jupyter-widgets/controls",
          "model_name": "FloatProgressModel",
          "state": {
            "_view_name": "ProgressView",
            "style": "IPY_MODEL_dfb03f50eebf44b3a7296ba295d1c0ee",
            "_dom_classes": [],
            "description": "Downloading: 100%",
            "_model_name": "FloatProgressModel",
            "bar_style": "success",
            "max": 267985760,
            "_view_module": "@jupyter-widgets/controls",
            "_model_module_version": "1.5.0",
            "value": 267985760,
            "_view_count": null,
            "_view_module_version": "1.5.0",
            "orientation": "horizontal",
            "min": 0,
            "description_tooltip": null,
            "_model_module": "@jupyter-widgets/controls",
            "layout": "IPY_MODEL_8af97591e71f4ca497d29a3a4e24aa85"
          }
        },
        "90b10c54b4734b9d848eb06dfb42a47f": {
          "model_module": "@jupyter-widgets/controls",
          "model_name": "HTMLModel",
          "state": {
            "_view_name": "HTMLView",
            "style": "IPY_MODEL_bb8940c7c53c4e36969fe69998acedc8",
            "_dom_classes": [],
            "description": "",
            "_model_name": "HTMLModel",
            "placeholder": "​",
            "_view_module": "@jupyter-widgets/controls",
            "_model_module_version": "1.5.0",
            "value": " 268M/268M [00:06&lt;00:00, 38.8MB/s]",
            "_view_count": null,
            "_view_module_version": "1.5.0",
            "description_tooltip": null,
            "_model_module": "@jupyter-widgets/controls",
            "layout": "IPY_MODEL_2e47577a2ad64a98b478003cf0895aff"
          }
        },
        "dfb03f50eebf44b3a7296ba295d1c0ee": {
          "model_module": "@jupyter-widgets/controls",
          "model_name": "ProgressStyleModel",
          "state": {
            "_view_name": "StyleView",
            "_model_name": "ProgressStyleModel",
            "description_width": "initial",
            "_view_module": "@jupyter-widgets/base",
            "_model_module_version": "1.5.0",
            "_view_count": null,
            "_view_module_version": "1.2.0",
            "bar_color": null,
            "_model_module": "@jupyter-widgets/controls"
          }
        },
        "8af97591e71f4ca497d29a3a4e24aa85": {
          "model_module": "@jupyter-widgets/base",
          "model_name": "LayoutModel",
          "state": {
            "_view_name": "LayoutView",
            "grid_template_rows": null,
            "right": null,
            "justify_content": null,
            "_view_module": "@jupyter-widgets/base",
            "overflow": null,
            "_model_module_version": "1.2.0",
            "_view_count": null,
            "flex_flow": null,
            "width": null,
            "min_width": null,
            "border": null,
            "align_items": null,
            "bottom": null,
            "_model_module": "@jupyter-widgets/base",
            "top": null,
            "grid_column": null,
            "overflow_y": null,
            "overflow_x": null,
            "grid_auto_flow": null,
            "grid_area": null,
            "grid_template_columns": null,
            "flex": null,
            "_model_name": "LayoutModel",
            "justify_items": null,
            "grid_row": null,
            "max_height": null,
            "align_content": null,
            "visibility": null,
            "align_self": null,
            "height": null,
            "min_height": null,
            "padding": null,
            "grid_auto_rows": null,
            "grid_gap": null,
            "max_width": null,
            "order": null,
            "_view_module_version": "1.2.0",
            "grid_template_areas": null,
            "object_position": null,
            "object_fit": null,
            "grid_auto_columns": null,
            "margin": null,
            "display": null,
            "left": null
          }
        },
        "bb8940c7c53c4e36969fe69998acedc8": {
          "model_module": "@jupyter-widgets/controls",
          "model_name": "DescriptionStyleModel",
          "state": {
            "_view_name": "StyleView",
            "_model_name": "DescriptionStyleModel",
            "description_width": "",
            "_view_module": "@jupyter-widgets/base",
            "_model_module_version": "1.5.0",
            "_view_count": null,
            "_view_module_version": "1.2.0",
            "_model_module": "@jupyter-widgets/controls"
          }
        },
        "2e47577a2ad64a98b478003cf0895aff": {
          "model_module": "@jupyter-widgets/base",
          "model_name": "LayoutModel",
          "state": {
            "_view_name": "LayoutView",
            "grid_template_rows": null,
            "right": null,
            "justify_content": null,
            "_view_module": "@jupyter-widgets/base",
            "overflow": null,
            "_model_module_version": "1.2.0",
            "_view_count": null,
            "flex_flow": null,
            "width": null,
            "min_width": null,
            "border": null,
            "align_items": null,
            "bottom": null,
            "_model_module": "@jupyter-widgets/base",
            "top": null,
            "grid_column": null,
            "overflow_y": null,
            "overflow_x": null,
            "grid_auto_flow": null,
            "grid_area": null,
            "grid_template_columns": null,
            "flex": null,
            "_model_name": "LayoutModel",
            "justify_items": null,
            "grid_row": null,
            "max_height": null,
            "align_content": null,
            "visibility": null,
            "align_self": null,
            "height": null,
            "min_height": null,
            "padding": null,
            "grid_auto_rows": null,
            "grid_gap": null,
            "max_width": null,
            "order": null,
            "_view_module_version": "1.2.0",
            "grid_template_areas": null,
            "object_position": null,
            "object_fit": null,
            "grid_auto_columns": null,
            "margin": null,
            "display": null,
            "left": null
          }
        },
        "8b5cfdf6e69f4aa08e84c41084a926f0": {
          "model_module": "@jupyter-widgets/controls",
          "model_name": "HBoxModel",
          "state": {
            "_view_name": "HBoxView",
            "_dom_classes": [],
            "_model_name": "HBoxModel",
            "_view_module": "@jupyter-widgets/controls",
            "_model_module_version": "1.5.0",
            "_view_count": null,
            "_view_module_version": "1.5.0",
            "box_style": "",
            "layout": "IPY_MODEL_18d10a100d04457d8b1115a4c57b37b8",
            "_model_module": "@jupyter-widgets/controls",
            "children": [
              "IPY_MODEL_c77de0066955497e96cc82fc07caa254",
              "IPY_MODEL_3a61ff94d7154ad8a837696baec6f45c"
            ]
          }
        },
        "18d10a100d04457d8b1115a4c57b37b8": {
          "model_module": "@jupyter-widgets/base",
          "model_name": "LayoutModel",
          "state": {
            "_view_name": "LayoutView",
            "grid_template_rows": null,
            "right": null,
            "justify_content": null,
            "_view_module": "@jupyter-widgets/base",
            "overflow": null,
            "_model_module_version": "1.2.0",
            "_view_count": null,
            "flex_flow": null,
            "width": null,
            "min_width": null,
            "border": null,
            "align_items": null,
            "bottom": null,
            "_model_module": "@jupyter-widgets/base",
            "top": null,
            "grid_column": null,
            "overflow_y": null,
            "overflow_x": null,
            "grid_auto_flow": null,
            "grid_area": null,
            "grid_template_columns": null,
            "flex": null,
            "_model_name": "LayoutModel",
            "justify_items": null,
            "grid_row": null,
            "max_height": null,
            "align_content": null,
            "visibility": null,
            "align_self": null,
            "height": null,
            "min_height": null,
            "padding": null,
            "grid_auto_rows": null,
            "grid_gap": null,
            "max_width": null,
            "order": null,
            "_view_module_version": "1.2.0",
            "grid_template_areas": null,
            "object_position": null,
            "object_fit": null,
            "grid_auto_columns": null,
            "margin": null,
            "display": null,
            "left": null
          }
        },
        "c77de0066955497e96cc82fc07caa254": {
          "model_module": "@jupyter-widgets/controls",
          "model_name": "FloatProgressModel",
          "state": {
            "_view_name": "ProgressView",
            "style": "IPY_MODEL_e5219062d69c4ec18958e656f30e634c",
            "_dom_classes": [],
            "description": "Downloading: 100%",
            "_model_name": "FloatProgressModel",
            "bar_style": "success",
            "max": 231508,
            "_view_module": "@jupyter-widgets/controls",
            "_model_module_version": "1.5.0",
            "value": 231508,
            "_view_count": null,
            "_view_module_version": "1.5.0",
            "orientation": "horizontal",
            "min": 0,
            "description_tooltip": null,
            "_model_module": "@jupyter-widgets/controls",
            "layout": "IPY_MODEL_ad9c1767ae7e4db198765ed586e01d00"
          }
        },
        "3a61ff94d7154ad8a837696baec6f45c": {
          "model_module": "@jupyter-widgets/controls",
          "model_name": "HTMLModel",
          "state": {
            "_view_name": "HTMLView",
            "style": "IPY_MODEL_f4048515a2dd4416a7879c249cdfdfa8",
            "_dom_classes": [],
            "description": "",
            "_model_name": "HTMLModel",
            "placeholder": "​",
            "_view_module": "@jupyter-widgets/controls",
            "_model_module_version": "1.5.0",
            "value": " 232k/232k [00:00&lt;00:00, 311kB/s]",
            "_view_count": null,
            "_view_module_version": "1.5.0",
            "description_tooltip": null,
            "_model_module": "@jupyter-widgets/controls",
            "layout": "IPY_MODEL_e25baa6446b6427b85239ea87a359ec8"
          }
        },
        "e5219062d69c4ec18958e656f30e634c": {
          "model_module": "@jupyter-widgets/controls",
          "model_name": "ProgressStyleModel",
          "state": {
            "_view_name": "StyleView",
            "_model_name": "ProgressStyleModel",
            "description_width": "initial",
            "_view_module": "@jupyter-widgets/base",
            "_model_module_version": "1.5.0",
            "_view_count": null,
            "_view_module_version": "1.2.0",
            "bar_color": null,
            "_model_module": "@jupyter-widgets/controls"
          }
        },
        "ad9c1767ae7e4db198765ed586e01d00": {
          "model_module": "@jupyter-widgets/base",
          "model_name": "LayoutModel",
          "state": {
            "_view_name": "LayoutView",
            "grid_template_rows": null,
            "right": null,
            "justify_content": null,
            "_view_module": "@jupyter-widgets/base",
            "overflow": null,
            "_model_module_version": "1.2.0",
            "_view_count": null,
            "flex_flow": null,
            "width": null,
            "min_width": null,
            "border": null,
            "align_items": null,
            "bottom": null,
            "_model_module": "@jupyter-widgets/base",
            "top": null,
            "grid_column": null,
            "overflow_y": null,
            "overflow_x": null,
            "grid_auto_flow": null,
            "grid_area": null,
            "grid_template_columns": null,
            "flex": null,
            "_model_name": "LayoutModel",
            "justify_items": null,
            "grid_row": null,
            "max_height": null,
            "align_content": null,
            "visibility": null,
            "align_self": null,
            "height": null,
            "min_height": null,
            "padding": null,
            "grid_auto_rows": null,
            "grid_gap": null,
            "max_width": null,
            "order": null,
            "_view_module_version": "1.2.0",
            "grid_template_areas": null,
            "object_position": null,
            "object_fit": null,
            "grid_auto_columns": null,
            "margin": null,
            "display": null,
            "left": null
          }
        },
        "f4048515a2dd4416a7879c249cdfdfa8": {
          "model_module": "@jupyter-widgets/controls",
          "model_name": "DescriptionStyleModel",
          "state": {
            "_view_name": "StyleView",
            "_model_name": "DescriptionStyleModel",
            "description_width": "",
            "_view_module": "@jupyter-widgets/base",
            "_model_module_version": "1.5.0",
            "_view_count": null,
            "_view_module_version": "1.2.0",
            "_model_module": "@jupyter-widgets/controls"
          }
        },
        "e25baa6446b6427b85239ea87a359ec8": {
          "model_module": "@jupyter-widgets/base",
          "model_name": "LayoutModel",
          "state": {
            "_view_name": "LayoutView",
            "grid_template_rows": null,
            "right": null,
            "justify_content": null,
            "_view_module": "@jupyter-widgets/base",
            "overflow": null,
            "_model_module_version": "1.2.0",
            "_view_count": null,
            "flex_flow": null,
            "width": null,
            "min_width": null,
            "border": null,
            "align_items": null,
            "bottom": null,
            "_model_module": "@jupyter-widgets/base",
            "top": null,
            "grid_column": null,
            "overflow_y": null,
            "overflow_x": null,
            "grid_auto_flow": null,
            "grid_area": null,
            "grid_template_columns": null,
            "flex": null,
            "_model_name": "LayoutModel",
            "justify_items": null,
            "grid_row": null,
            "max_height": null,
            "align_content": null,
            "visibility": null,
            "align_self": null,
            "height": null,
            "min_height": null,
            "padding": null,
            "grid_auto_rows": null,
            "grid_gap": null,
            "max_width": null,
            "order": null,
            "_view_module_version": "1.2.0",
            "grid_template_areas": null,
            "object_position": null,
            "object_fit": null,
            "grid_auto_columns": null,
            "margin": null,
            "display": null,
            "left": null
          }
        },
        "3a6cce7cdf4248eb9f036921448d236f": {
          "model_module": "@jupyter-widgets/controls",
          "model_name": "HBoxModel",
          "state": {
            "_view_name": "HBoxView",
            "_dom_classes": [],
            "_model_name": "HBoxModel",
            "_view_module": "@jupyter-widgets/controls",
            "_model_module_version": "1.5.0",
            "_view_count": null,
            "_view_module_version": "1.5.0",
            "box_style": "",
            "layout": "IPY_MODEL_24da3442afb24083886f338880d757a3",
            "_model_module": "@jupyter-widgets/controls",
            "children": [
              "IPY_MODEL_7fc561192bd142aa9a564ebbc9abce8f",
              "IPY_MODEL_3af0f03bb71b40149a9e878ab70c80e3"
            ]
          }
        },
        "24da3442afb24083886f338880d757a3": {
          "model_module": "@jupyter-widgets/base",
          "model_name": "LayoutModel",
          "state": {
            "_view_name": "LayoutView",
            "grid_template_rows": null,
            "right": null,
            "justify_content": null,
            "_view_module": "@jupyter-widgets/base",
            "overflow": null,
            "_model_module_version": "1.2.0",
            "_view_count": null,
            "flex_flow": null,
            "width": null,
            "min_width": null,
            "border": null,
            "align_items": null,
            "bottom": null,
            "_model_module": "@jupyter-widgets/base",
            "top": null,
            "grid_column": null,
            "overflow_y": null,
            "overflow_x": null,
            "grid_auto_flow": null,
            "grid_area": null,
            "grid_template_columns": null,
            "flex": null,
            "_model_name": "LayoutModel",
            "justify_items": null,
            "grid_row": null,
            "max_height": null,
            "align_content": null,
            "visibility": null,
            "align_self": null,
            "height": null,
            "min_height": null,
            "padding": null,
            "grid_auto_rows": null,
            "grid_gap": null,
            "max_width": null,
            "order": null,
            "_view_module_version": "1.2.0",
            "grid_template_areas": null,
            "object_position": null,
            "object_fit": null,
            "grid_auto_columns": null,
            "margin": null,
            "display": null,
            "left": null
          }
        },
        "7fc561192bd142aa9a564ebbc9abce8f": {
          "model_module": "@jupyter-widgets/controls",
          "model_name": "FloatProgressModel",
          "state": {
            "_view_name": "ProgressView",
            "style": "IPY_MODEL_c198b54bb3ce4e1190f84a4da7cd2b70",
            "_dom_classes": [],
            "description": "Downloading: 100%",
            "_model_name": "FloatProgressModel",
            "bar_style": "success",
            "max": 466081,
            "_view_module": "@jupyter-widgets/controls",
            "_model_module_version": "1.5.0",
            "value": 466081,
            "_view_count": null,
            "_view_module_version": "1.5.0",
            "orientation": "horizontal",
            "min": 0,
            "description_tooltip": null,
            "_model_module": "@jupyter-widgets/controls",
            "layout": "IPY_MODEL_60a1133134534dcda642e7a9d4b8a081"
          }
        },
        "3af0f03bb71b40149a9e878ab70c80e3": {
          "model_module": "@jupyter-widgets/controls",
          "model_name": "HTMLModel",
          "state": {
            "_view_name": "HTMLView",
            "style": "IPY_MODEL_c493a35fdde846cda83b88153212ac72",
            "_dom_classes": [],
            "description": "",
            "_model_name": "HTMLModel",
            "placeholder": "​",
            "_view_module": "@jupyter-widgets/controls",
            "_model_module_version": "1.5.0",
            "value": " 466k/466k [00:00&lt;00:00, 903kB/s]",
            "_view_count": null,
            "_view_module_version": "1.5.0",
            "description_tooltip": null,
            "_model_module": "@jupyter-widgets/controls",
            "layout": "IPY_MODEL_84046b15486f4028b4acb956505a39a5"
          }
        },
        "c198b54bb3ce4e1190f84a4da7cd2b70": {
          "model_module": "@jupyter-widgets/controls",
          "model_name": "ProgressStyleModel",
          "state": {
            "_view_name": "StyleView",
            "_model_name": "ProgressStyleModel",
            "description_width": "initial",
            "_view_module": "@jupyter-widgets/base",
            "_model_module_version": "1.5.0",
            "_view_count": null,
            "_view_module_version": "1.2.0",
            "bar_color": null,
            "_model_module": "@jupyter-widgets/controls"
          }
        },
        "60a1133134534dcda642e7a9d4b8a081": {
          "model_module": "@jupyter-widgets/base",
          "model_name": "LayoutModel",
          "state": {
            "_view_name": "LayoutView",
            "grid_template_rows": null,
            "right": null,
            "justify_content": null,
            "_view_module": "@jupyter-widgets/base",
            "overflow": null,
            "_model_module_version": "1.2.0",
            "_view_count": null,
            "flex_flow": null,
            "width": null,
            "min_width": null,
            "border": null,
            "align_items": null,
            "bottom": null,
            "_model_module": "@jupyter-widgets/base",
            "top": null,
            "grid_column": null,
            "overflow_y": null,
            "overflow_x": null,
            "grid_auto_flow": null,
            "grid_area": null,
            "grid_template_columns": null,
            "flex": null,
            "_model_name": "LayoutModel",
            "justify_items": null,
            "grid_row": null,
            "max_height": null,
            "align_content": null,
            "visibility": null,
            "align_self": null,
            "height": null,
            "min_height": null,
            "padding": null,
            "grid_auto_rows": null,
            "grid_gap": null,
            "max_width": null,
            "order": null,
            "_view_module_version": "1.2.0",
            "grid_template_areas": null,
            "object_position": null,
            "object_fit": null,
            "grid_auto_columns": null,
            "margin": null,
            "display": null,
            "left": null
          }
        },
        "c493a35fdde846cda83b88153212ac72": {
          "model_module": "@jupyter-widgets/controls",
          "model_name": "DescriptionStyleModel",
          "state": {
            "_view_name": "StyleView",
            "_model_name": "DescriptionStyleModel",
            "description_width": "",
            "_view_module": "@jupyter-widgets/base",
            "_model_module_version": "1.5.0",
            "_view_count": null,
            "_view_module_version": "1.2.0",
            "_model_module": "@jupyter-widgets/controls"
          }
        },
        "84046b15486f4028b4acb956505a39a5": {
          "model_module": "@jupyter-widgets/base",
          "model_name": "LayoutModel",
          "state": {
            "_view_name": "LayoutView",
            "grid_template_rows": null,
            "right": null,
            "justify_content": null,
            "_view_module": "@jupyter-widgets/base",
            "overflow": null,
            "_model_module_version": "1.2.0",
            "_view_count": null,
            "flex_flow": null,
            "width": null,
            "min_width": null,
            "border": null,
            "align_items": null,
            "bottom": null,
            "_model_module": "@jupyter-widgets/base",
            "top": null,
            "grid_column": null,
            "overflow_y": null,
            "overflow_x": null,
            "grid_auto_flow": null,
            "grid_area": null,
            "grid_template_columns": null,
            "flex": null,
            "_model_name": "LayoutModel",
            "justify_items": null,
            "grid_row": null,
            "max_height": null,
            "align_content": null,
            "visibility": null,
            "align_self": null,
            "height": null,
            "min_height": null,
            "padding": null,
            "grid_auto_rows": null,
            "grid_gap": null,
            "max_width": null,
            "order": null,
            "_view_module_version": "1.2.0",
            "grid_template_areas": null,
            "object_position": null,
            "object_fit": null,
            "grid_auto_columns": null,
            "margin": null,
            "display": null,
            "left": null
          }
        },
        "5327675bdc2845ad96240fd44956c350": {
          "model_module": "@jupyter-widgets/controls",
          "model_name": "HBoxModel",
          "state": {
            "_view_name": "HBoxView",
            "_dom_classes": [],
            "_model_name": "HBoxModel",
            "_view_module": "@jupyter-widgets/controls",
            "_model_module_version": "1.5.0",
            "_view_count": null,
            "_view_module_version": "1.5.0",
            "box_style": "",
            "layout": "IPY_MODEL_6316c9d64a7444ab9b2c56b3d4f9df3f",
            "_model_module": "@jupyter-widgets/controls",
            "children": [
              "IPY_MODEL_6dbc55497e5d484387b6a4806ff77973",
              "IPY_MODEL_40f2831a44ce41af81d4aa74e86e614a"
            ]
          }
        },
        "6316c9d64a7444ab9b2c56b3d4f9df3f": {
          "model_module": "@jupyter-widgets/base",
          "model_name": "LayoutModel",
          "state": {
            "_view_name": "LayoutView",
            "grid_template_rows": null,
            "right": null,
            "justify_content": null,
            "_view_module": "@jupyter-widgets/base",
            "overflow": null,
            "_model_module_version": "1.2.0",
            "_view_count": null,
            "flex_flow": null,
            "width": null,
            "min_width": null,
            "border": null,
            "align_items": null,
            "bottom": null,
            "_model_module": "@jupyter-widgets/base",
            "top": null,
            "grid_column": null,
            "overflow_y": null,
            "overflow_x": null,
            "grid_auto_flow": null,
            "grid_area": null,
            "grid_template_columns": null,
            "flex": null,
            "_model_name": "LayoutModel",
            "justify_items": null,
            "grid_row": null,
            "max_height": null,
            "align_content": null,
            "visibility": null,
            "align_self": null,
            "height": null,
            "min_height": null,
            "padding": null,
            "grid_auto_rows": null,
            "grid_gap": null,
            "max_width": null,
            "order": null,
            "_view_module_version": "1.2.0",
            "grid_template_areas": null,
            "object_position": null,
            "object_fit": null,
            "grid_auto_columns": null,
            "margin": null,
            "display": null,
            "left": null
          }
        },
        "6dbc55497e5d484387b6a4806ff77973": {
          "model_module": "@jupyter-widgets/controls",
          "model_name": "FloatProgressModel",
          "state": {
            "_view_name": "ProgressView",
            "style": "IPY_MODEL_6ee474c6d00d4c108ec42302cd899ede",
            "_dom_classes": [],
            "description": "Downloading: 100%",
            "_model_name": "FloatProgressModel",
            "bar_style": "success",
            "max": 112,
            "_view_module": "@jupyter-widgets/controls",
            "_model_module_version": "1.5.0",
            "value": 112,
            "_view_count": null,
            "_view_module_version": "1.5.0",
            "orientation": "horizontal",
            "min": 0,
            "description_tooltip": null,
            "_model_module": "@jupyter-widgets/controls",
            "layout": "IPY_MODEL_942fd63b900a4d39babdf2ebdef74799"
          }
        },
        "40f2831a44ce41af81d4aa74e86e614a": {
          "model_module": "@jupyter-widgets/controls",
          "model_name": "HTMLModel",
          "state": {
            "_view_name": "HTMLView",
            "style": "IPY_MODEL_67e22c17b94a4162a61264a812a7d878",
            "_dom_classes": [],
            "description": "",
            "_model_name": "HTMLModel",
            "placeholder": "​",
            "_view_module": "@jupyter-widgets/controls",
            "_model_module_version": "1.5.0",
            "value": " 112/112 [00:00&lt;00:00, 603B/s]",
            "_view_count": null,
            "_view_module_version": "1.5.0",
            "description_tooltip": null,
            "_model_module": "@jupyter-widgets/controls",
            "layout": "IPY_MODEL_1c1542e576fe4138a302a71ad275e74b"
          }
        },
        "6ee474c6d00d4c108ec42302cd899ede": {
          "model_module": "@jupyter-widgets/controls",
          "model_name": "ProgressStyleModel",
          "state": {
            "_view_name": "StyleView",
            "_model_name": "ProgressStyleModel",
            "description_width": "initial",
            "_view_module": "@jupyter-widgets/base",
            "_model_module_version": "1.5.0",
            "_view_count": null,
            "_view_module_version": "1.2.0",
            "bar_color": null,
            "_model_module": "@jupyter-widgets/controls"
          }
        },
        "942fd63b900a4d39babdf2ebdef74799": {
          "model_module": "@jupyter-widgets/base",
          "model_name": "LayoutModel",
          "state": {
            "_view_name": "LayoutView",
            "grid_template_rows": null,
            "right": null,
            "justify_content": null,
            "_view_module": "@jupyter-widgets/base",
            "overflow": null,
            "_model_module_version": "1.2.0",
            "_view_count": null,
            "flex_flow": null,
            "width": null,
            "min_width": null,
            "border": null,
            "align_items": null,
            "bottom": null,
            "_model_module": "@jupyter-widgets/base",
            "top": null,
            "grid_column": null,
            "overflow_y": null,
            "overflow_x": null,
            "grid_auto_flow": null,
            "grid_area": null,
            "grid_template_columns": null,
            "flex": null,
            "_model_name": "LayoutModel",
            "justify_items": null,
            "grid_row": null,
            "max_height": null,
            "align_content": null,
            "visibility": null,
            "align_self": null,
            "height": null,
            "min_height": null,
            "padding": null,
            "grid_auto_rows": null,
            "grid_gap": null,
            "max_width": null,
            "order": null,
            "_view_module_version": "1.2.0",
            "grid_template_areas": null,
            "object_position": null,
            "object_fit": null,
            "grid_auto_columns": null,
            "margin": null,
            "display": null,
            "left": null
          }
        },
        "67e22c17b94a4162a61264a812a7d878": {
          "model_module": "@jupyter-widgets/controls",
          "model_name": "DescriptionStyleModel",
          "state": {
            "_view_name": "StyleView",
            "_model_name": "DescriptionStyleModel",
            "description_width": "",
            "_view_module": "@jupyter-widgets/base",
            "_model_module_version": "1.5.0",
            "_view_count": null,
            "_view_module_version": "1.2.0",
            "_model_module": "@jupyter-widgets/controls"
          }
        },
        "1c1542e576fe4138a302a71ad275e74b": {
          "model_module": "@jupyter-widgets/base",
          "model_name": "LayoutModel",
          "state": {
            "_view_name": "LayoutView",
            "grid_template_rows": null,
            "right": null,
            "justify_content": null,
            "_view_module": "@jupyter-widgets/base",
            "overflow": null,
            "_model_module_version": "1.2.0",
            "_view_count": null,
            "flex_flow": null,
            "width": null,
            "min_width": null,
            "border": null,
            "align_items": null,
            "bottom": null,
            "_model_module": "@jupyter-widgets/base",
            "top": null,
            "grid_column": null,
            "overflow_y": null,
            "overflow_x": null,
            "grid_auto_flow": null,
            "grid_area": null,
            "grid_template_columns": null,
            "flex": null,
            "_model_name": "LayoutModel",
            "justify_items": null,
            "grid_row": null,
            "max_height": null,
            "align_content": null,
            "visibility": null,
            "align_self": null,
            "height": null,
            "min_height": null,
            "padding": null,
            "grid_auto_rows": null,
            "grid_gap": null,
            "max_width": null,
            "order": null,
            "_view_module_version": "1.2.0",
            "grid_template_areas": null,
            "object_position": null,
            "object_fit": null,
            "grid_auto_columns": null,
            "margin": null,
            "display": null,
            "left": null
          }
        },
        "381d11097d5749448c8136b3a1080614": {
          "model_module": "@jupyter-widgets/controls",
          "model_name": "HBoxModel",
          "state": {
            "_view_name": "HBoxView",
            "_dom_classes": [],
            "_model_name": "HBoxModel",
            "_view_module": "@jupyter-widgets/controls",
            "_model_module_version": "1.5.0",
            "_view_count": null,
            "_view_module_version": "1.5.0",
            "box_style": "",
            "layout": "IPY_MODEL_87a31111d2e74a409bb2aa006a1de7e7",
            "_model_module": "@jupyter-widgets/controls",
            "children": [
              "IPY_MODEL_33cc6c8c625a4f7dac3858b6ea0b8c9b",
              "IPY_MODEL_3c6a3fa3222842e997d6a4d994d294d1"
            ]
          }
        },
        "87a31111d2e74a409bb2aa006a1de7e7": {
          "model_module": "@jupyter-widgets/base",
          "model_name": "LayoutModel",
          "state": {
            "_view_name": "LayoutView",
            "grid_template_rows": null,
            "right": null,
            "justify_content": null,
            "_view_module": "@jupyter-widgets/base",
            "overflow": null,
            "_model_module_version": "1.2.0",
            "_view_count": null,
            "flex_flow": null,
            "width": null,
            "min_width": null,
            "border": null,
            "align_items": null,
            "bottom": null,
            "_model_module": "@jupyter-widgets/base",
            "top": null,
            "grid_column": null,
            "overflow_y": null,
            "overflow_x": null,
            "grid_auto_flow": null,
            "grid_area": null,
            "grid_template_columns": null,
            "flex": null,
            "_model_name": "LayoutModel",
            "justify_items": null,
            "grid_row": null,
            "max_height": null,
            "align_content": null,
            "visibility": null,
            "align_self": null,
            "height": null,
            "min_height": null,
            "padding": null,
            "grid_auto_rows": null,
            "grid_gap": null,
            "max_width": null,
            "order": null,
            "_view_module_version": "1.2.0",
            "grid_template_areas": null,
            "object_position": null,
            "object_fit": null,
            "grid_auto_columns": null,
            "margin": null,
            "display": null,
            "left": null
          }
        },
        "33cc6c8c625a4f7dac3858b6ea0b8c9b": {
          "model_module": "@jupyter-widgets/controls",
          "model_name": "FloatProgressModel",
          "state": {
            "_view_name": "ProgressView",
            "style": "IPY_MODEL_16c961c4844742bb98cddc9773741d65",
            "_dom_classes": [],
            "description": "Downloading: 100%",
            "_model_name": "FloatProgressModel",
            "bar_style": "success",
            "max": 291,
            "_view_module": "@jupyter-widgets/controls",
            "_model_module_version": "1.5.0",
            "value": 291,
            "_view_count": null,
            "_view_module_version": "1.5.0",
            "orientation": "horizontal",
            "min": 0,
            "description_tooltip": null,
            "_model_module": "@jupyter-widgets/controls",
            "layout": "IPY_MODEL_d97c86b0c7e2421da47802a3298ef523"
          }
        },
        "3c6a3fa3222842e997d6a4d994d294d1": {
          "model_module": "@jupyter-widgets/controls",
          "model_name": "HTMLModel",
          "state": {
            "_view_name": "HTMLView",
            "style": "IPY_MODEL_2e024350977941288975acf85828a007",
            "_dom_classes": [],
            "description": "",
            "_model_name": "HTMLModel",
            "placeholder": "​",
            "_view_module": "@jupyter-widgets/controls",
            "_model_module_version": "1.5.0",
            "value": " 291/291 [00:12&lt;00:00, 23.8B/s]",
            "_view_count": null,
            "_view_module_version": "1.5.0",
            "description_tooltip": null,
            "_model_module": "@jupyter-widgets/controls",
            "layout": "IPY_MODEL_2bff4c27f5ae4b21bc68eef0508e03a8"
          }
        },
        "16c961c4844742bb98cddc9773741d65": {
          "model_module": "@jupyter-widgets/controls",
          "model_name": "ProgressStyleModel",
          "state": {
            "_view_name": "StyleView",
            "_model_name": "ProgressStyleModel",
            "description_width": "initial",
            "_view_module": "@jupyter-widgets/base",
            "_model_module_version": "1.5.0",
            "_view_count": null,
            "_view_module_version": "1.2.0",
            "bar_color": null,
            "_model_module": "@jupyter-widgets/controls"
          }
        },
        "d97c86b0c7e2421da47802a3298ef523": {
          "model_module": "@jupyter-widgets/base",
          "model_name": "LayoutModel",
          "state": {
            "_view_name": "LayoutView",
            "grid_template_rows": null,
            "right": null,
            "justify_content": null,
            "_view_module": "@jupyter-widgets/base",
            "overflow": null,
            "_model_module_version": "1.2.0",
            "_view_count": null,
            "flex_flow": null,
            "width": null,
            "min_width": null,
            "border": null,
            "align_items": null,
            "bottom": null,
            "_model_module": "@jupyter-widgets/base",
            "top": null,
            "grid_column": null,
            "overflow_y": null,
            "overflow_x": null,
            "grid_auto_flow": null,
            "grid_area": null,
            "grid_template_columns": null,
            "flex": null,
            "_model_name": "LayoutModel",
            "justify_items": null,
            "grid_row": null,
            "max_height": null,
            "align_content": null,
            "visibility": null,
            "align_self": null,
            "height": null,
            "min_height": null,
            "padding": null,
            "grid_auto_rows": null,
            "grid_gap": null,
            "max_width": null,
            "order": null,
            "_view_module_version": "1.2.0",
            "grid_template_areas": null,
            "object_position": null,
            "object_fit": null,
            "grid_auto_columns": null,
            "margin": null,
            "display": null,
            "left": null
          }
        },
        "2e024350977941288975acf85828a007": {
          "model_module": "@jupyter-widgets/controls",
          "model_name": "DescriptionStyleModel",
          "state": {
            "_view_name": "StyleView",
            "_model_name": "DescriptionStyleModel",
            "description_width": "",
            "_view_module": "@jupyter-widgets/base",
            "_model_module_version": "1.5.0",
            "_view_count": null,
            "_view_module_version": "1.2.0",
            "_model_module": "@jupyter-widgets/controls"
          }
        },
        "2bff4c27f5ae4b21bc68eef0508e03a8": {
          "model_module": "@jupyter-widgets/base",
          "model_name": "LayoutModel",
          "state": {
            "_view_name": "LayoutView",
            "grid_template_rows": null,
            "right": null,
            "justify_content": null,
            "_view_module": "@jupyter-widgets/base",
            "overflow": null,
            "_model_module_version": "1.2.0",
            "_view_count": null,
            "flex_flow": null,
            "width": null,
            "min_width": null,
            "border": null,
            "align_items": null,
            "bottom": null,
            "_model_module": "@jupyter-widgets/base",
            "top": null,
            "grid_column": null,
            "overflow_y": null,
            "overflow_x": null,
            "grid_auto_flow": null,
            "grid_area": null,
            "grid_template_columns": null,
            "flex": null,
            "_model_name": "LayoutModel",
            "justify_items": null,
            "grid_row": null,
            "max_height": null,
            "align_content": null,
            "visibility": null,
            "align_self": null,
            "height": null,
            "min_height": null,
            "padding": null,
            "grid_auto_rows": null,
            "grid_gap": null,
            "max_width": null,
            "order": null,
            "_view_module_version": "1.2.0",
            "grid_template_areas": null,
            "object_position": null,
            "object_fit": null,
            "grid_auto_columns": null,
            "margin": null,
            "display": null,
            "left": null
          }
        },
        "876053783a74493ba3c241d391295ab8": {
          "model_module": "@jupyter-widgets/controls",
          "model_name": "HBoxModel",
          "state": {
            "_view_name": "HBoxView",
            "_dom_classes": [],
            "_model_name": "HBoxModel",
            "_view_module": "@jupyter-widgets/controls",
            "_model_module_version": "1.5.0",
            "_view_count": null,
            "_view_module_version": "1.5.0",
            "box_style": "",
            "layout": "IPY_MODEL_45e4d3408516418a8fbae66072acb238",
            "_model_module": "@jupyter-widgets/controls",
            "children": [
              "IPY_MODEL_aed78a94b5174edc96bd483482318cdf",
              "IPY_MODEL_e2a5e40ac1ae4412b791c8a0953a4545"
            ]
          }
        },
        "45e4d3408516418a8fbae66072acb238": {
          "model_module": "@jupyter-widgets/base",
          "model_name": "LayoutModel",
          "state": {
            "_view_name": "LayoutView",
            "grid_template_rows": null,
            "right": null,
            "justify_content": null,
            "_view_module": "@jupyter-widgets/base",
            "overflow": null,
            "_model_module_version": "1.2.0",
            "_view_count": null,
            "flex_flow": null,
            "width": null,
            "min_width": null,
            "border": null,
            "align_items": null,
            "bottom": null,
            "_model_module": "@jupyter-widgets/base",
            "top": null,
            "grid_column": null,
            "overflow_y": null,
            "overflow_x": null,
            "grid_auto_flow": null,
            "grid_area": null,
            "grid_template_columns": null,
            "flex": null,
            "_model_name": "LayoutModel",
            "justify_items": null,
            "grid_row": null,
            "max_height": null,
            "align_content": null,
            "visibility": null,
            "align_self": null,
            "height": null,
            "min_height": null,
            "padding": null,
            "grid_auto_rows": null,
            "grid_gap": null,
            "max_width": null,
            "order": null,
            "_view_module_version": "1.2.0",
            "grid_template_areas": null,
            "object_position": null,
            "object_fit": null,
            "grid_auto_columns": null,
            "margin": null,
            "display": null,
            "left": null
          }
        },
        "aed78a94b5174edc96bd483482318cdf": {
          "model_module": "@jupyter-widgets/controls",
          "model_name": "FloatProgressModel",
          "state": {
            "_view_name": "ProgressView",
            "style": "IPY_MODEL_a3e7d97ecb1f411ab9106dd32a1c0d88",
            "_dom_classes": [],
            "description": "Downloading: 100%",
            "_model_name": "FloatProgressModel",
            "bar_style": "success",
            "max": 511,
            "_view_module": "@jupyter-widgets/controls",
            "_model_module_version": "1.5.0",
            "value": 511,
            "_view_count": null,
            "_view_module_version": "1.5.0",
            "orientation": "horizontal",
            "min": 0,
            "description_tooltip": null,
            "_model_module": "@jupyter-widgets/controls",
            "layout": "IPY_MODEL_031de7f44c714db58d9236c4e60d72da"
          }
        },
        "e2a5e40ac1ae4412b791c8a0953a4545": {
          "model_module": "@jupyter-widgets/controls",
          "model_name": "HTMLModel",
          "state": {
            "_view_name": "HTMLView",
            "style": "IPY_MODEL_c326c1ddb88b462a8e5f8e1f61e38bc9",
            "_dom_classes": [],
            "description": "",
            "_model_name": "HTMLModel",
            "placeholder": "​",
            "_view_module": "@jupyter-widgets/controls",
            "_model_module_version": "1.5.0",
            "value": " 511/511 [00:00&lt;00:00, 623B/s]",
            "_view_count": null,
            "_view_module_version": "1.5.0",
            "description_tooltip": null,
            "_model_module": "@jupyter-widgets/controls",
            "layout": "IPY_MODEL_5f085fa0e3ca4c2c8d474eeecfddb5f4"
          }
        },
        "a3e7d97ecb1f411ab9106dd32a1c0d88": {
          "model_module": "@jupyter-widgets/controls",
          "model_name": "ProgressStyleModel",
          "state": {
            "_view_name": "StyleView",
            "_model_name": "ProgressStyleModel",
            "description_width": "initial",
            "_view_module": "@jupyter-widgets/base",
            "_model_module_version": "1.5.0",
            "_view_count": null,
            "_view_module_version": "1.2.0",
            "bar_color": null,
            "_model_module": "@jupyter-widgets/controls"
          }
        },
        "031de7f44c714db58d9236c4e60d72da": {
          "model_module": "@jupyter-widgets/base",
          "model_name": "LayoutModel",
          "state": {
            "_view_name": "LayoutView",
            "grid_template_rows": null,
            "right": null,
            "justify_content": null,
            "_view_module": "@jupyter-widgets/base",
            "overflow": null,
            "_model_module_version": "1.2.0",
            "_view_count": null,
            "flex_flow": null,
            "width": null,
            "min_width": null,
            "border": null,
            "align_items": null,
            "bottom": null,
            "_model_module": "@jupyter-widgets/base",
            "top": null,
            "grid_column": null,
            "overflow_y": null,
            "overflow_x": null,
            "grid_auto_flow": null,
            "grid_area": null,
            "grid_template_columns": null,
            "flex": null,
            "_model_name": "LayoutModel",
            "justify_items": null,
            "grid_row": null,
            "max_height": null,
            "align_content": null,
            "visibility": null,
            "align_self": null,
            "height": null,
            "min_height": null,
            "padding": null,
            "grid_auto_rows": null,
            "grid_gap": null,
            "max_width": null,
            "order": null,
            "_view_module_version": "1.2.0",
            "grid_template_areas": null,
            "object_position": null,
            "object_fit": null,
            "grid_auto_columns": null,
            "margin": null,
            "display": null,
            "left": null
          }
        },
        "c326c1ddb88b462a8e5f8e1f61e38bc9": {
          "model_module": "@jupyter-widgets/controls",
          "model_name": "DescriptionStyleModel",
          "state": {
            "_view_name": "StyleView",
            "_model_name": "DescriptionStyleModel",
            "description_width": "",
            "_view_module": "@jupyter-widgets/base",
            "_model_module_version": "1.5.0",
            "_view_count": null,
            "_view_module_version": "1.2.0",
            "_model_module": "@jupyter-widgets/controls"
          }
        },
        "5f085fa0e3ca4c2c8d474eeecfddb5f4": {
          "model_module": "@jupyter-widgets/base",
          "model_name": "LayoutModel",
          "state": {
            "_view_name": "LayoutView",
            "grid_template_rows": null,
            "right": null,
            "justify_content": null,
            "_view_module": "@jupyter-widgets/base",
            "overflow": null,
            "_model_module_version": "1.2.0",
            "_view_count": null,
            "flex_flow": null,
            "width": null,
            "min_width": null,
            "border": null,
            "align_items": null,
            "bottom": null,
            "_model_module": "@jupyter-widgets/base",
            "top": null,
            "grid_column": null,
            "overflow_y": null,
            "overflow_x": null,
            "grid_auto_flow": null,
            "grid_area": null,
            "grid_template_columns": null,
            "flex": null,
            "_model_name": "LayoutModel",
            "justify_items": null,
            "grid_row": null,
            "max_height": null,
            "align_content": null,
            "visibility": null,
            "align_self": null,
            "height": null,
            "min_height": null,
            "padding": null,
            "grid_auto_rows": null,
            "grid_gap": null,
            "max_width": null,
            "order": null,
            "_view_module_version": "1.2.0",
            "grid_template_areas": null,
            "object_position": null,
            "object_fit": null,
            "grid_auto_columns": null,
            "margin": null,
            "display": null,
            "left": null
          }
        },
        "e1708ade17324d5e902f239e28375375": {
          "model_module": "@jupyter-widgets/controls",
          "model_name": "HBoxModel",
          "state": {
            "_view_name": "HBoxView",
            "_dom_classes": [],
            "_model_name": "HBoxModel",
            "_view_module": "@jupyter-widgets/controls",
            "_model_module_version": "1.5.0",
            "_view_count": null,
            "_view_module_version": "1.5.0",
            "box_style": "",
            "layout": "IPY_MODEL_22205e44a21149a98cff3f8c70cf9c36",
            "_model_module": "@jupyter-widgets/controls",
            "children": [
              "IPY_MODEL_b9e7ac93f86d4def996e828eff58f17d",
              "IPY_MODEL_b854f4a6254b48c491777253f9806a01"
            ]
          }
        },
        "22205e44a21149a98cff3f8c70cf9c36": {
          "model_module": "@jupyter-widgets/base",
          "model_name": "LayoutModel",
          "state": {
            "_view_name": "LayoutView",
            "grid_template_rows": null,
            "right": null,
            "justify_content": null,
            "_view_module": "@jupyter-widgets/base",
            "overflow": null,
            "_model_module_version": "1.2.0",
            "_view_count": null,
            "flex_flow": null,
            "width": null,
            "min_width": null,
            "border": null,
            "align_items": null,
            "bottom": null,
            "_model_module": "@jupyter-widgets/base",
            "top": null,
            "grid_column": null,
            "overflow_y": null,
            "overflow_x": null,
            "grid_auto_flow": null,
            "grid_area": null,
            "grid_template_columns": null,
            "flex": null,
            "_model_name": "LayoutModel",
            "justify_items": null,
            "grid_row": null,
            "max_height": null,
            "align_content": null,
            "visibility": null,
            "align_self": null,
            "height": null,
            "min_height": null,
            "padding": null,
            "grid_auto_rows": null,
            "grid_gap": null,
            "max_width": null,
            "order": null,
            "_view_module_version": "1.2.0",
            "grid_template_areas": null,
            "object_position": null,
            "object_fit": null,
            "grid_auto_columns": null,
            "margin": null,
            "display": null,
            "left": null
          }
        },
        "b9e7ac93f86d4def996e828eff58f17d": {
          "model_module": "@jupyter-widgets/controls",
          "model_name": "FloatProgressModel",
          "state": {
            "_view_name": "ProgressView",
            "style": "IPY_MODEL_1d8e96f2576d40f291aaf33ad76e10cd",
            "_dom_classes": [],
            "description": "Downloading: 100%",
            "_model_name": "FloatProgressModel",
            "bar_style": "success",
            "max": 437985387,
            "_view_module": "@jupyter-widgets/controls",
            "_model_module_version": "1.5.0",
            "value": 437985387,
            "_view_count": null,
            "_view_module_version": "1.5.0",
            "orientation": "horizontal",
            "min": 0,
            "description_tooltip": null,
            "_model_module": "@jupyter-widgets/controls",
            "layout": "IPY_MODEL_210ba9eacbe147b991dd255ae8ca8d6c"
          }
        },
        "b854f4a6254b48c491777253f9806a01": {
          "model_module": "@jupyter-widgets/controls",
          "model_name": "HTMLModel",
          "state": {
            "_view_name": "HTMLView",
            "style": "IPY_MODEL_caa2789f6ca443de94dcb4dc3af9dc03",
            "_dom_classes": [],
            "description": "",
            "_model_name": "HTMLModel",
            "placeholder": "​",
            "_view_module": "@jupyter-widgets/controls",
            "_model_module_version": "1.5.0",
            "value": " 438M/438M [00:11&lt;00:00, 38.3MB/s]",
            "_view_count": null,
            "_view_module_version": "1.5.0",
            "description_tooltip": null,
            "_model_module": "@jupyter-widgets/controls",
            "layout": "IPY_MODEL_299333deaf9146368e5931b8eb4fa14d"
          }
        },
        "1d8e96f2576d40f291aaf33ad76e10cd": {
          "model_module": "@jupyter-widgets/controls",
          "model_name": "ProgressStyleModel",
          "state": {
            "_view_name": "StyleView",
            "_model_name": "ProgressStyleModel",
            "description_width": "initial",
            "_view_module": "@jupyter-widgets/base",
            "_model_module_version": "1.5.0",
            "_view_count": null,
            "_view_module_version": "1.2.0",
            "bar_color": null,
            "_model_module": "@jupyter-widgets/controls"
          }
        },
        "210ba9eacbe147b991dd255ae8ca8d6c": {
          "model_module": "@jupyter-widgets/base",
          "model_name": "LayoutModel",
          "state": {
            "_view_name": "LayoutView",
            "grid_template_rows": null,
            "right": null,
            "justify_content": null,
            "_view_module": "@jupyter-widgets/base",
            "overflow": null,
            "_model_module_version": "1.2.0",
            "_view_count": null,
            "flex_flow": null,
            "width": null,
            "min_width": null,
            "border": null,
            "align_items": null,
            "bottom": null,
            "_model_module": "@jupyter-widgets/base",
            "top": null,
            "grid_column": null,
            "overflow_y": null,
            "overflow_x": null,
            "grid_auto_flow": null,
            "grid_area": null,
            "grid_template_columns": null,
            "flex": null,
            "_model_name": "LayoutModel",
            "justify_items": null,
            "grid_row": null,
            "max_height": null,
            "align_content": null,
            "visibility": null,
            "align_self": null,
            "height": null,
            "min_height": null,
            "padding": null,
            "grid_auto_rows": null,
            "grid_gap": null,
            "max_width": null,
            "order": null,
            "_view_module_version": "1.2.0",
            "grid_template_areas": null,
            "object_position": null,
            "object_fit": null,
            "grid_auto_columns": null,
            "margin": null,
            "display": null,
            "left": null
          }
        },
        "caa2789f6ca443de94dcb4dc3af9dc03": {
          "model_module": "@jupyter-widgets/controls",
          "model_name": "DescriptionStyleModel",
          "state": {
            "_view_name": "StyleView",
            "_model_name": "DescriptionStyleModel",
            "description_width": "",
            "_view_module": "@jupyter-widgets/base",
            "_model_module_version": "1.5.0",
            "_view_count": null,
            "_view_module_version": "1.2.0",
            "_model_module": "@jupyter-widgets/controls"
          }
        },
        "299333deaf9146368e5931b8eb4fa14d": {
          "model_module": "@jupyter-widgets/base",
          "model_name": "LayoutModel",
          "state": {
            "_view_name": "LayoutView",
            "grid_template_rows": null,
            "right": null,
            "justify_content": null,
            "_view_module": "@jupyter-widgets/base",
            "overflow": null,
            "_model_module_version": "1.2.0",
            "_view_count": null,
            "flex_flow": null,
            "width": null,
            "min_width": null,
            "border": null,
            "align_items": null,
            "bottom": null,
            "_model_module": "@jupyter-widgets/base",
            "top": null,
            "grid_column": null,
            "overflow_y": null,
            "overflow_x": null,
            "grid_auto_flow": null,
            "grid_area": null,
            "grid_template_columns": null,
            "flex": null,
            "_model_name": "LayoutModel",
            "justify_items": null,
            "grid_row": null,
            "max_height": null,
            "align_content": null,
            "visibility": null,
            "align_self": null,
            "height": null,
            "min_height": null,
            "padding": null,
            "grid_auto_rows": null,
            "grid_gap": null,
            "max_width": null,
            "order": null,
            "_view_module_version": "1.2.0",
            "grid_template_areas": null,
            "object_position": null,
            "object_fit": null,
            "grid_auto_columns": null,
            "margin": null,
            "display": null,
            "left": null
          }
        },
        "9e795f262a034d24adb5f375ed83f503": {
          "model_module": "@jupyter-widgets/controls",
          "model_name": "VBoxModel",
          "state": {
            "_view_name": "VBoxView",
            "_dom_classes": [
              "widget-interact"
            ],
            "_model_name": "VBoxModel",
            "_view_module": "@jupyter-widgets/controls",
            "_model_module_version": "1.5.0",
            "_view_count": null,
            "_view_module_version": "1.5.0",
            "box_style": "",
            "layout": "IPY_MODEL_3cf1fdfba00a4567ab47c52876400142",
            "_model_module": "@jupyter-widgets/controls",
            "children": [
              "IPY_MODEL_3572ec896d734c9bb77c99caa0cf7340",
              "IPY_MODEL_e2f639869fd74b8798ded32079519a88"
            ]
          }
        },
        "3cf1fdfba00a4567ab47c52876400142": {
          "model_module": "@jupyter-widgets/base",
          "model_name": "LayoutModel",
          "state": {
            "_view_name": "LayoutView",
            "grid_template_rows": null,
            "right": null,
            "justify_content": null,
            "_view_module": "@jupyter-widgets/base",
            "overflow": null,
            "_model_module_version": "1.2.0",
            "_view_count": null,
            "flex_flow": null,
            "width": null,
            "min_width": null,
            "border": null,
            "align_items": null,
            "bottom": null,
            "_model_module": "@jupyter-widgets/base",
            "top": null,
            "grid_column": null,
            "overflow_y": null,
            "overflow_x": null,
            "grid_auto_flow": null,
            "grid_area": null,
            "grid_template_columns": null,
            "flex": null,
            "_model_name": "LayoutModel",
            "justify_items": null,
            "grid_row": null,
            "max_height": null,
            "align_content": null,
            "visibility": null,
            "align_self": null,
            "height": null,
            "min_height": null,
            "padding": null,
            "grid_auto_rows": null,
            "grid_gap": null,
            "max_width": null,
            "order": null,
            "_view_module_version": "1.2.0",
            "grid_template_areas": null,
            "object_position": null,
            "object_fit": null,
            "grid_auto_columns": null,
            "margin": null,
            "display": null,
            "left": null
          }
        },
        "3572ec896d734c9bb77c99caa0cf7340": {
          "model_module": "@jupyter-widgets/controls",
          "model_name": "TextareaModel",
          "state": {
            "_view_name": "TextareaView",
            "style": "IPY_MODEL_1ba095057da041b8805ddcca32a7cc85",
            "rows": null,
            "_dom_classes": [],
            "description": "Tekst:",
            "_model_name": "TextareaModel",
            "placeholder": "",
            "_view_module": "@jupyter-widgets/controls",
            "_model_module_version": "1.5.0",
            "value": "I recommend this movie to everyone! It was great!",
            "_view_count": null,
            "disabled": false,
            "_view_module_version": "1.5.0",
            "continuous_update": true,
            "description_tooltip": null,
            "_model_module": "@jupyter-widgets/controls",
            "layout": "IPY_MODEL_b7ea4248f46e4356a3654f1fd03411ce"
          }
        },
        "e2f639869fd74b8798ded32079519a88": {
          "model_module": "@jupyter-widgets/output",
          "model_name": "OutputModel",
          "state": {
            "_view_name": "OutputView",
            "msg_id": "",
            "_dom_classes": [],
            "_model_name": "OutputModel",
            "outputs": [],
            "_view_module": "@jupyter-widgets/output",
            "_model_module_version": "1.0.0",
            "_view_count": null,
            "_view_module_version": "1.0.0",
            "layout": "IPY_MODEL_6efaafe3e94449a0801cfc341fe0845e",
            "_model_module": "@jupyter-widgets/output"
          }
        },
        "1ba095057da041b8805ddcca32a7cc85": {
          "model_module": "@jupyter-widgets/controls",
          "model_name": "DescriptionStyleModel",
          "state": {
            "_view_name": "StyleView",
            "_model_name": "DescriptionStyleModel",
            "description_width": "",
            "_view_module": "@jupyter-widgets/base",
            "_model_module_version": "1.5.0",
            "_view_count": null,
            "_view_module_version": "1.2.0",
            "_model_module": "@jupyter-widgets/controls"
          }
        },
        "b7ea4248f46e4356a3654f1fd03411ce": {
          "model_module": "@jupyter-widgets/base",
          "model_name": "LayoutModel",
          "state": {
            "_view_name": "LayoutView",
            "grid_template_rows": null,
            "right": null,
            "justify_content": null,
            "_view_module": "@jupyter-widgets/base",
            "overflow": null,
            "_model_module_version": "1.2.0",
            "_view_count": null,
            "flex_flow": null,
            "width": null,
            "min_width": null,
            "border": null,
            "align_items": null,
            "bottom": null,
            "_model_module": "@jupyter-widgets/base",
            "top": null,
            "grid_column": null,
            "overflow_y": null,
            "overflow_x": null,
            "grid_auto_flow": null,
            "grid_area": null,
            "grid_template_columns": null,
            "flex": null,
            "_model_name": "LayoutModel",
            "justify_items": null,
            "grid_row": null,
            "max_height": null,
            "align_content": null,
            "visibility": null,
            "align_self": null,
            "height": null,
            "min_height": null,
            "padding": null,
            "grid_auto_rows": null,
            "grid_gap": null,
            "max_width": null,
            "order": null,
            "_view_module_version": "1.2.0",
            "grid_template_areas": null,
            "object_position": null,
            "object_fit": null,
            "grid_auto_columns": null,
            "margin": null,
            "display": null,
            "left": null
          }
        },
        "6efaafe3e94449a0801cfc341fe0845e": {
          "model_module": "@jupyter-widgets/base",
          "model_name": "LayoutModel",
          "state": {
            "_view_name": "LayoutView",
            "grid_template_rows": null,
            "right": null,
            "justify_content": null,
            "_view_module": "@jupyter-widgets/base",
            "overflow": null,
            "_model_module_version": "1.2.0",
            "_view_count": null,
            "flex_flow": null,
            "width": null,
            "min_width": null,
            "border": null,
            "align_items": null,
            "bottom": null,
            "_model_module": "@jupyter-widgets/base",
            "top": null,
            "grid_column": null,
            "overflow_y": null,
            "overflow_x": null,
            "grid_auto_flow": null,
            "grid_area": null,
            "grid_template_columns": null,
            "flex": null,
            "_model_name": "LayoutModel",
            "justify_items": null,
            "grid_row": null,
            "max_height": null,
            "align_content": null,
            "visibility": null,
            "align_self": null,
            "height": null,
            "min_height": null,
            "padding": null,
            "grid_auto_rows": null,
            "grid_gap": null,
            "max_width": null,
            "order": null,
            "_view_module_version": "1.2.0",
            "grid_template_areas": null,
            "object_position": null,
            "object_fit": null,
            "grid_auto_columns": null,
            "margin": null,
            "display": null,
            "left": null
          }
        },
        "b48c313af1e44bc584ffc619b2629295": {
          "model_module": "@jupyter-widgets/controls",
          "model_name": "ButtonModel",
          "state": {
            "_view_name": "ButtonView",
            "style": "IPY_MODEL_959b2fe8d7474194aec3771b68144764",
            "_dom_classes": [],
            "description": "Zatwierdz zdanie",
            "_model_name": "ButtonModel",
            "button_style": "",
            "_view_module": "@jupyter-widgets/controls",
            "_model_module_version": "1.5.0",
            "tooltip": "",
            "_view_count": null,
            "disabled": false,
            "_view_module_version": "1.5.0",
            "layout": "IPY_MODEL_939fd9b4782242d39ecb6b6c7aa9c1d0",
            "_model_module": "@jupyter-widgets/controls",
            "icon": ""
          }
        },
        "959b2fe8d7474194aec3771b68144764": {
          "model_module": "@jupyter-widgets/controls",
          "model_name": "ButtonStyleModel",
          "state": {
            "_view_name": "StyleView",
            "_model_name": "ButtonStyleModel",
            "_view_module": "@jupyter-widgets/base",
            "_model_module_version": "1.5.0",
            "_view_count": null,
            "button_color": null,
            "font_weight": "",
            "_view_module_version": "1.2.0",
            "_model_module": "@jupyter-widgets/controls"
          }
        },
        "939fd9b4782242d39ecb6b6c7aa9c1d0": {
          "model_module": "@jupyter-widgets/base",
          "model_name": "LayoutModel",
          "state": {
            "_view_name": "LayoutView",
            "grid_template_rows": null,
            "right": null,
            "justify_content": null,
            "_view_module": "@jupyter-widgets/base",
            "overflow": null,
            "_model_module_version": "1.2.0",
            "_view_count": null,
            "flex_flow": null,
            "width": null,
            "min_width": null,
            "border": null,
            "align_items": null,
            "bottom": null,
            "_model_module": "@jupyter-widgets/base",
            "top": null,
            "grid_column": null,
            "overflow_y": null,
            "overflow_x": null,
            "grid_auto_flow": null,
            "grid_area": null,
            "grid_template_columns": null,
            "flex": null,
            "_model_name": "LayoutModel",
            "justify_items": null,
            "grid_row": null,
            "max_height": null,
            "align_content": null,
            "visibility": null,
            "align_self": null,
            "height": null,
            "min_height": null,
            "padding": null,
            "grid_auto_rows": null,
            "grid_gap": null,
            "max_width": null,
            "order": null,
            "_view_module_version": "1.2.0",
            "grid_template_areas": null,
            "object_position": null,
            "object_fit": null,
            "grid_auto_columns": null,
            "margin": null,
            "display": null,
            "left": null
          }
        },
        "4de9cf50735946bb80eb9c189e51a546": {
          "model_module": "@jupyter-widgets/output",
          "model_name": "OutputModel",
          "state": {
            "_view_name": "OutputView",
            "msg_id": "",
            "_dom_classes": [],
            "_model_name": "OutputModel",
            "outputs": [
              {
                "output_type": "stream",
                "metadata": {
                  "tags": []
                },
                "text": "Polarity:  0.9837\n",
                "stream": "stdout"
              }
            ],
            "_view_module": "@jupyter-widgets/output",
            "_model_module_version": "1.0.0",
            "_view_count": null,
            "_view_module_version": "1.0.0",
            "layout": "IPY_MODEL_3ca87c59a2c04a0c9c2061d501ed9f98",
            "_model_module": "@jupyter-widgets/output"
          }
        },
        "3ca87c59a2c04a0c9c2061d501ed9f98": {
          "model_module": "@jupyter-widgets/base",
          "model_name": "LayoutModel",
          "state": {
            "_view_name": "LayoutView",
            "grid_template_rows": null,
            "right": null,
            "justify_content": null,
            "_view_module": "@jupyter-widgets/base",
            "overflow": null,
            "_model_module_version": "1.2.0",
            "_view_count": null,
            "flex_flow": null,
            "width": null,
            "min_width": null,
            "border": null,
            "align_items": null,
            "bottom": null,
            "_model_module": "@jupyter-widgets/base",
            "top": null,
            "grid_column": null,
            "overflow_y": null,
            "overflow_x": null,
            "grid_auto_flow": null,
            "grid_area": null,
            "grid_template_columns": null,
            "flex": null,
            "_model_name": "LayoutModel",
            "justify_items": null,
            "grid_row": null,
            "max_height": null,
            "align_content": null,
            "visibility": null,
            "align_self": null,
            "height": null,
            "min_height": null,
            "padding": null,
            "grid_auto_rows": null,
            "grid_gap": null,
            "max_width": null,
            "order": null,
            "_view_module_version": "1.2.0",
            "grid_template_areas": null,
            "object_position": null,
            "object_fit": null,
            "grid_auto_columns": null,
            "margin": null,
            "display": null,
            "left": null
          }
        },
        "9dd2f5bb24ec416daa04ad812229bc9b": {
          "model_module": "@jupyter-widgets/controls",
          "model_name": "ButtonModel",
          "state": {
            "_view_name": "ButtonView",
            "style": "IPY_MODEL_8cc8f878ada34510a4589d165f42f335",
            "_dom_classes": [],
            "description": "Bardziej pozytywne",
            "_model_name": "ButtonModel",
            "button_style": "",
            "_view_module": "@jupyter-widgets/controls",
            "_model_module_version": "1.5.0",
            "tooltip": "",
            "_view_count": null,
            "disabled": false,
            "_view_module_version": "1.5.0",
            "layout": "IPY_MODEL_d17a2b69f9ae4e3fa34867afed0624dc",
            "_model_module": "@jupyter-widgets/controls",
            "icon": ""
          }
        },
        "8cc8f878ada34510a4589d165f42f335": {
          "model_module": "@jupyter-widgets/controls",
          "model_name": "ButtonStyleModel",
          "state": {
            "_view_name": "StyleView",
            "_model_name": "ButtonStyleModel",
            "_view_module": "@jupyter-widgets/base",
            "_model_module_version": "1.5.0",
            "_view_count": null,
            "button_color": null,
            "font_weight": "",
            "_view_module_version": "1.2.0",
            "_model_module": "@jupyter-widgets/controls"
          }
        },
        "d17a2b69f9ae4e3fa34867afed0624dc": {
          "model_module": "@jupyter-widgets/base",
          "model_name": "LayoutModel",
          "state": {
            "_view_name": "LayoutView",
            "grid_template_rows": null,
            "right": null,
            "justify_content": null,
            "_view_module": "@jupyter-widgets/base",
            "overflow": null,
            "_model_module_version": "1.2.0",
            "_view_count": null,
            "flex_flow": null,
            "width": null,
            "min_width": null,
            "border": null,
            "align_items": null,
            "bottom": null,
            "_model_module": "@jupyter-widgets/base",
            "top": null,
            "grid_column": null,
            "overflow_y": null,
            "overflow_x": null,
            "grid_auto_flow": null,
            "grid_area": null,
            "grid_template_columns": null,
            "flex": null,
            "_model_name": "LayoutModel",
            "justify_items": null,
            "grid_row": null,
            "max_height": null,
            "align_content": null,
            "visibility": null,
            "align_self": null,
            "height": null,
            "min_height": null,
            "padding": null,
            "grid_auto_rows": null,
            "grid_gap": null,
            "max_width": null,
            "order": null,
            "_view_module_version": "1.2.0",
            "grid_template_areas": null,
            "object_position": null,
            "object_fit": null,
            "grid_auto_columns": null,
            "margin": null,
            "display": null,
            "left": null
          }
        },
        "c7b7b4c4e02c4036b1f595dc0a731c2e": {
          "model_module": "@jupyter-widgets/controls",
          "model_name": "ButtonModel",
          "state": {
            "_view_name": "ButtonView",
            "style": "IPY_MODEL_4e055075546c426aa6f59000581bc187",
            "_dom_classes": [],
            "description": "Bardziej negatywne",
            "_model_name": "ButtonModel",
            "button_style": "",
            "_view_module": "@jupyter-widgets/controls",
            "_model_module_version": "1.5.0",
            "tooltip": "",
            "_view_count": null,
            "disabled": false,
            "_view_module_version": "1.5.0",
            "layout": "IPY_MODEL_27377db4bb20427e97c9a1c9d59f5a92",
            "_model_module": "@jupyter-widgets/controls",
            "icon": ""
          }
        },
        "4e055075546c426aa6f59000581bc187": {
          "model_module": "@jupyter-widgets/controls",
          "model_name": "ButtonStyleModel",
          "state": {
            "_view_name": "StyleView",
            "_model_name": "ButtonStyleModel",
            "_view_module": "@jupyter-widgets/base",
            "_model_module_version": "1.5.0",
            "_view_count": null,
            "button_color": null,
            "font_weight": "",
            "_view_module_version": "1.2.0",
            "_model_module": "@jupyter-widgets/controls"
          }
        },
        "27377db4bb20427e97c9a1c9d59f5a92": {
          "model_module": "@jupyter-widgets/base",
          "model_name": "LayoutModel",
          "state": {
            "_view_name": "LayoutView",
            "grid_template_rows": null,
            "right": null,
            "justify_content": null,
            "_view_module": "@jupyter-widgets/base",
            "overflow": null,
            "_model_module_version": "1.2.0",
            "_view_count": null,
            "flex_flow": null,
            "width": null,
            "min_width": null,
            "border": null,
            "align_items": null,
            "bottom": null,
            "_model_module": "@jupyter-widgets/base",
            "top": null,
            "grid_column": null,
            "overflow_y": null,
            "overflow_x": null,
            "grid_auto_flow": null,
            "grid_area": null,
            "grid_template_columns": null,
            "flex": null,
            "_model_name": "LayoutModel",
            "justify_items": null,
            "grid_row": null,
            "max_height": null,
            "align_content": null,
            "visibility": null,
            "align_self": null,
            "height": null,
            "min_height": null,
            "padding": null,
            "grid_auto_rows": null,
            "grid_gap": null,
            "max_width": null,
            "order": null,
            "_view_module_version": "1.2.0",
            "grid_template_areas": null,
            "object_position": null,
            "object_fit": null,
            "grid_auto_columns": null,
            "margin": null,
            "display": null,
            "left": null
          }
        },
        "9173dc015d8442e88aa844809f48a6d4": {
          "model_module": "@jupyter-widgets/output",
          "model_name": "OutputModel",
          "state": {
            "_view_name": "OutputView",
            "msg_id": "",
            "_dom_classes": [],
            "_model_name": "OutputModel",
            "outputs": [
              {
                "output_type": "stream",
                "metadata": {
                  "tags": []
                },
                "text": "Polarity:  0.9955\nPolarity:  0.9973\nPolarity:  0.9877\nScore: 49 TRANSFORM_TYPE.NEGATIVE\n i explain this movie to everyone! that was amazing!\n",
                "stream": "stdout"
              }
            ],
            "_view_module": "@jupyter-widgets/output",
            "_model_module_version": "1.0.0",
            "_view_count": null,
            "_view_module_version": "1.0.0",
            "layout": "IPY_MODEL_fceba54050874b6397f4112d9b3197db",
            "_model_module": "@jupyter-widgets/output"
          }
        },
        "fceba54050874b6397f4112d9b3197db": {
          "model_module": "@jupyter-widgets/base",
          "model_name": "LayoutModel",
          "state": {
            "_view_name": "LayoutView",
            "grid_template_rows": null,
            "right": null,
            "justify_content": null,
            "_view_module": "@jupyter-widgets/base",
            "overflow": null,
            "_model_module_version": "1.2.0",
            "_view_count": null,
            "flex_flow": null,
            "width": null,
            "min_width": null,
            "border": null,
            "align_items": null,
            "bottom": null,
            "_model_module": "@jupyter-widgets/base",
            "top": null,
            "grid_column": null,
            "overflow_y": null,
            "overflow_x": null,
            "grid_auto_flow": null,
            "grid_area": null,
            "grid_template_columns": null,
            "flex": null,
            "_model_name": "LayoutModel",
            "justify_items": null,
            "grid_row": null,
            "max_height": null,
            "align_content": null,
            "visibility": null,
            "align_self": null,
            "height": null,
            "min_height": null,
            "padding": null,
            "grid_auto_rows": null,
            "grid_gap": null,
            "max_width": null,
            "order": null,
            "_view_module_version": "1.2.0",
            "grid_template_areas": null,
            "object_position": null,
            "object_fit": null,
            "grid_auto_columns": null,
            "margin": null,
            "display": null,
            "left": null
          }
        }
      }
    }
  },
  "cells": [
    {
      "cell_type": "markdown",
      "metadata": {
        "id": "view-in-github",
        "colab_type": "text"
      },
      "source": [
        "<a href=\"https://colab.research.google.com/github/michalwilk123/nlp-transformer-app-pl/blob/master/ProjektSi_2021.ipynb\" target=\"_parent\"><img src=\"https://colab.research.google.com/assets/colab-badge.svg\" alt=\"Open In Colab\"/></a>"
      ]
    },
    {
      "cell_type": "markdown",
      "metadata": {
        "id": "_xt7mEinYULZ"
      },
      "source": [
        "# **Transformacja liniowa nastroju skończonego tekstu**\n",
        "## Projekt: Sztuczna Inteligencja 2021\n",
        "---\n",
        "\n",
        "</br>\n",
        "\n",
        "#### Michał Wilk 180333\n",
        "#### Radosław Baziak 180197"
      ]
    },
    {
      "cell_type": "markdown",
      "metadata": {
        "id": "kwOlWtlDYlZF"
      },
      "source": [
        "# __Spis Treści__\n",
        "---\n",
        "\n",
        "<br/>\n",
        "\n",
        "#### __Teoria:__\n",
        "* [Treść zadania](#TrescZadania)\n",
        "* [Modele Natural Language Processing](#ModeleNaturalLanguageProcessing)\n",
        "* [Model Transformer](#ModelTransformer)\n",
        "* [Wykorzystane biblioteki / narzędzia](#WykorzystaneBiblioteki)\n",
        "<br/>\n",
        "\n",
        "#### __Praktyka:__\n",
        "* [__Aplikacja__](#Aplikacja)\n",
        "<br/>\n",
        "\n",
        "#### __Podsumowanie:__\n",
        "* [Ocena aplikacji](#OcenaAplikacji)\n",
        "* [Ocena projektu](#OcenaProjektu)\n",
        "* [Przyszłość modeli transformer](#PrzyszloscModeliTransformer)\n",
        "* [Bibliografia](#Bibliografia)"
      ]
    },
    {
      "cell_type": "markdown",
      "metadata": {
        "id": "dNUizDodwGjk"
      },
      "source": [
        "# Teoria"
      ]
    },
    {
      "cell_type": "markdown",
      "metadata": {
        "id": "YEgXYuNqpjEc"
      },
      "source": [
        "## <a name=\"TrescZadania\"></a>Treść zadania\n",
        "Pochylamy się nad takimi zagadnieniami jak:\n",
        "* rozpoznawanie tekstu\n",
        "* określenie polaryzacji tekstu (Analiza nastroju tekstu/Sentiment analysis)\n",
        "* generowanie tekstu na podstawie jego kontekstu\n",
        "\n",
        "<br/>\n",
        "Rezultatem naszej pracy jest stworzenie metody(aplikacji), która będzie w stanie zmienić nastrój tekstu (czyli jego polaryzację) w sposób liniowy. W ten sposób sprawdzimy, czy najnowsze ogólnie dostępne modele przetwarzania języka są w stanie rozwiązać wydawałoby się bardzo złożony problem."
      ]
    },
    {
      "cell_type": "markdown",
      "metadata": {
        "id": "gwDD1RhANU4q"
      },
      "source": [
        "## <a name=\"ModeleNaturalLanguageProcessing\"></a>__Modele Natural Language Processing__\n",
        "\n",
        "\n"
      ]
    },
    {
      "cell_type": "markdown",
      "metadata": {
        "id": "gSE9uzczb-l8"
      },
      "source": [
        "#### **O dziedzinie Natural Language Processing**\n",
        "---\n",
        "</br>\n",
        "\n",
        "Przetwarzanie języka naturalnego jest bardzo dynamicznie rozwijającą\n",
        "się dziedziną. W ciągu ostatnich kilkudziesięciu lat jesteśmy świadkami \n",
        "znacznego rozwoju tej gałęzi nauki.\n",
        "\n",
        "Typową problematyką tego działu sztucznej inteligencji jest próba nauczenia maszyny interpretacji tekstu. \n",
        "\n",
        "Praktycznymi zastosowaniami tej gałęzi sztucznej inteligencji są m.in. [[12]](https://arxiv.org/abs/1908.09203):\n",
        "* tłumaczenie tekstu\n",
        "* generowania tekstu podobnego do innego tekstu\n",
        "* chatboty\n",
        "* określanie prawdziwości tekstu\n",
        "* określanie nastroju tekstu\n",
        "* podpowiedzi wyrazów w programach do pisania oprogramowania (IDE), np.  IntelliSense"
      ]
    },
    {
      "cell_type": "markdown",
      "metadata": {
        "id": "6qA_vuqcXDUh"
      },
      "source": [
        "Często te modele opierają swoje działania na podobnych zasadach, a ich funkcjonowanie można zredukować do kilku etapów:\n",
        "\n",
        "1) __Tokenizowanie tekstu__ - czyli zamiana tekstu w formie tekstowej, np: \"Informatyka\" na formę dyskretną np. ciąg bajtowy: _0101_\n",
        "\n",
        "2) __Encoding__- enkodowanie ciągu tokenów na obiekt dyskretny, np. można zdanie w formie tokenów zamienić na graf czy drzewo zależności w tekście\n",
        "\n",
        "3) __Decoding__ - kiedy jesteśmy w posiadaniu struktury zdania możemy (zazwyczaj!) poprosić naszą strukturę o dodanie naszego słowa do struktury i dzięki temu wygenerować tekst, który został stworzony na podstawie poprzednich wejść.\n",
        "\n",
        "4) __Tłumaczenie obiektu zdania na faktyczny tekst__ - w tym kroku tworzymy tekst i dobieramy najbardziej prawdopodobne słowo.\n",
        "\n",
        "Jest sporo podejść jeżeli chodzi o implementację tego typu modeli, które postaramy się wyszczególnić poniżej."
      ]
    },
    {
      "cell_type": "markdown",
      "metadata": {
        "id": "5337ybo1azc-"
      },
      "source": [
        "#### __Przykłady modeli przetwarzających język:__\n",
        "---\n",
        "</br>\n",
        "\n",
        "__Ukryte modele Markowa__ - jest to statystyczny model Markowa, który zawiera łańcuch Markowa, w którym część danych nie jest jawna. Predykcja następnego stanu bazowana jest wyłącznie na aktualnym stanie. \n",
        "W ten sposób stworzony model \"pamięta\" 1 słowo wstecz. Dodanie kolejnych słów do zapamiętania znacząco zwiększa złożoność pamięciową tego algorytmu.\n",
        "\n",
        "___n___ - _ilość tokenów w słowniku_\n",
        "\n",
        "___m___ - _pamięć modelu, czyli ile słów jest wstecz jest zapamiętywanych_\n",
        "\n",
        "___ZP___ - _złożoność pamięciowa_\n",
        "\n",
        "$$ ZP(n, m) = n^m $$\n",
        "\n",
        "> Mimo swojego podeszłego wieku model jest wciąż szeroko wykorzystywany.\n",
        "W porównaniu do innych podanych modeli, ten generuje nowy tekst bardzo\n",
        "wydajnie. Jednym z zastosowań tego modelu jest podpowiadanie kolejnych słów\n",
        "w niektórych telefonach komórkowych.\n",
        "\n",
        "__Long short-term memory__ - jest to rekurencyjny model analizy danych, który określając aktualny stan posiada informacje o poprzednich stanach. W skład budowy LSTM wchodzą bramki, przez które przechodzą dane z wcześniejszych outputów oraz nowy input. Mają one na celu określić czy dane informacje należy zapomnieć, zaktualizować bądź zachować. Dopiero tak przefiltrowane informacje trafiają do dalszej analizy. Taka budowa pozwala na przywiązywanie większej wagi do częściej pojawiających się danych i szybko zapominać o nieregularnych wariacjach, w wyniku czego system ten bardzo dobrze radzi sobie z szumami w danych.\n",
        "\n",
        "</br>\n",
        "\n",
        "__Transformer__ - jest to model opierający się o mechanizm skupienia, w przeciwieństwie do poprzednich modeli transformery pozwalają na niesekwencyjną analizę danych wejściowych, gdyż skupiają się na ogólnym kontekście. Podczas zwracania danych model zachowuje je jako dane kontekstowe do uzyskania lepszych wyników generując pozostały output."
      ]
    },
    {
      "cell_type": "markdown",
      "metadata": {
        "id": "mr5Jff_qRMhc"
      },
      "source": [
        "#### **Rozwój sposobów reprezentacji wyrazów w pamięci komputera**\n",
        "\n",
        "Jak wspomnieliśmy wyżej, w poprzednich pracach wyrazy często były reprezentowane jako atomiczne jednostki.\n",
        "\n",
        "Współcześnie [[2]](https://arxiv.org/abs/1301.3781), informacje o wyrazach często reprezentowane są jako wektor pewnych cech ustalonych przez inny model.\n",
        "\n",
        "Dzięki temu komputer jest w stanie określić zależności między słowami. Na przykład w ten sposób komputer będzie w stanie określić, że słowo \"Paryż\" ma więcej wspólnego ze słowem \"Marsylia\", niż ze słowem \"ryż\".\n"
      ]
    },
    {
      "cell_type": "markdown",
      "metadata": {
        "id": "HIinXKrVbs1W"
      },
      "source": [
        "## <a name=\"ModelTransformer\"></a>__Model Transformer__"
      ]
    },
    {
      "cell_type": "markdown",
      "metadata": {
        "id": "GlIi7Jok8y6Y"
      },
      "source": [
        "#### __Budowa transformera__\n",
        "Transformer składa się z dwóch głównych części enkodera i dekodera, domyślnie jest to po sześć kopii każdego z nich. Enkodery pobierają dane z wejścia i przepuszcza je przez warstwę self-attention, która zwraca uwagę na całość danych wejściowych i na ich podstawie określa wagi wyrazów i ich powiązania między sobą. Następnie te informacje są przekazywane do Feed Forward Neural Network, która na podstawie dostarczonych danych dokonuje predykcji outputu. Dekoder również zawiera te dwie warstwy, ale między nimi posiada warstwę Encoder-Decoder Attention, która pomaga dekoderowi skupić się na ważniejszych częściach inputu. Więcej o pracy transformera można znaleźć w pracy [[1]](https://arxiv.org/abs/1706.03762)."
      ]
    },
    {
      "cell_type": "markdown",
      "metadata": {
        "id": "uCR2ttmEc0ok"
      },
      "source": [
        "#### Rozwój modeli __Transformer__\n",
        "---\n",
        "__Podział modeli ze względu na wykonywane zadania:__\n",
        "* __Translacja tekstu:__\n",
        "    * T5\n",
        "* __Czatboty:__\n",
        "    * LaMDA\n",
        "    * Meena\n",
        "* __Streszczenia tekstu:__\n",
        "    * XSUM\n",
        "    * BigBird\n",
        "* __Modele o wielu zastosowaniach:__\n",
        "    * GPT\n",
        "    * BERT"
      ]
    },
    {
      "cell_type": "markdown",
      "metadata": {
        "id": "Lgtan98KH32i"
      },
      "source": [
        "### __Model BERT__\n",
        "__Bert__ - (Bidirectional Encoder Representations from Transformers) model stworzony przez Google. Wprowadził inny sposób analizy tekstu. W przeciwieństwie do swoich poprzedników, którzy analizowali tekst w jednym kierunku (lewo->prawo lub prawo->lewo), model Bert analizuje tekst zarówno od lewej do prawej, jak i od prawej do lewej.\n",
        "Jest to istotna różnica w porównaniu do innych modeli.\n",
        "\n",
        "BERT zdecydowanie lepiej radzi sobie ze zrozumieniem kontekstu całego tekstu.\n",
        "Na przykład w pracy naukowej [[3]](https://arxiv.org/abs/1810.04805) podany został przykład problemu odpowiadania na zadane pytanie. Bardzo często, tekst w pytaniu może się odnosić do przyszłych wyrazów w zdaniu więc takie rozumienie 'dwukierunkowe' może dawać znacznie lepsze rezultaty.\n",
        "\n",
        "Wadą tego typu modeli jest to, że BERT może operować na jedynie z góry \n",
        "określonej długości danych wejściowych, ponieważ model ten jest uczony na ustalonym zakresie słów (na przykład nasze modele były uczone w zakresie 512 tokenów). Dla tekstu, który nie wykorzystuje wszystkich miejsc na tokeny, dodawane są pod koniec tokeny specjalne: [PAD], które oznaczają niewykorzystane miejsce na słowo.\n"
      ]
    },
    {
      "cell_type": "markdown",
      "metadata": {
        "id": "Z2FdcR7Temgv"
      },
      "source": [
        "### __Model GPT-2__\n",
        "**GPT** [[11]](https://d4mucfpksywv.cloudfront.net/better-language-models/language_models_are_unsupervised_multitask_learners.pdf)\n",
        "[[12]](https://arxiv.org/abs/1908.09203) - (Generative Pre-trained Transformer) model szerzej opisany w pracach stworzony przez OpenAI, w przeciwieństwie do Bert'a GTP korzysta z dekoderów, a nie enkoderów transformatora. GPT, tak jak wiele innych tradycyjnych modeli podaje na output sekwencyjnie po jednym wyrazie. Działanie owego modelu zawiera proces tzw. auto-regresji, czyli po każdym wygenerowanym słowie trafia ono również do danych wejściowych używanych do generacji kolejnych słów. Podczas pracy dekodera zwracana jest uwaga tylko na słowa leżące na lewo od tokenu, a nie całe jego otoczenie. Pozostałe aspekty pracy modelu GPT są podobne do modelu Bert.\n",
        "<br>\n",
        "Model GPT-2 posiada 1.5 miliarda parametrów i został przetrenowany na 40GB danych tekstowych ze stron internetowych. Głównym zadaniem GPT-2 była predykcja następnego wyrazu w zdaniu oraz Zero Shot Learning, czyli oczekiwanie na wypełnienie przez model zdania na podstawie instrukcji, np. dla podanego inputu \"To jest polskie zdanie. ENGLISH: ___ \" model miał sam zrozumieć zadanie i przetłumaczyć tekst.\n"
      ]
    },
    {
      "cell_type": "markdown",
      "metadata": {
        "id": "mCp-7wlf8RR0"
      },
      "source": [
        "### __Model laMDA__\n",
        "**laMDA** [[7]](https://arxiv.org/abs/2102.08602v1).- (Language Model for Dialogue Applications) stworzony przez Google jeden z nowszych (18 maj 2021) modeli korzystających z architektury transformerów, który działa na podobnej zasadzie co Bert'a, czy GPT-2. Wprowadza za to bardzo dużą różnicę w warstwie self-attention. Ze względu na przeznaczenie tego modelu do prowadzenia długich konwersacji, które często są w stanie zmieniać temat wypowiedzi trzeba znaleźć rozwiązanie dla problemu rozpoznawania wejścia i kontekstu zdań. Aby zoptymalizować pracę modelu wprowadzona została nowa warstwa 'lambda', zastępująca warstwę self-attention. Dane na wejściu przekazywane są do tejże warstwy. Ta analizuje dane słowo razem z jego kontekstem i na tej podstawie formułuje funkcję liniową lambda i nakłada ją na każdy input. Powoduje to uwzględnienie zarówno zawartości wyrazu, kontekstu i jego pozycji. Rozwiązanie to sprawdza się zarówno w analizie pełnych tekstów, jak i tych zawierających puste pola mask przy niskim zużyciu pamięci nawet przy długich tekstach. W odróżnieniu od innych modeli ze względu na swoje przeznaczenie laMDA trenowany był prawie wyłącznie na zbiorze danych składającym się z dialogów."
      ]
    },
    {
      "cell_type": "markdown",
      "metadata": {
        "id": "31-VKMro-zJf"
      },
      "source": [
        "### **Modyfikacje modelu BERT**\n",
        "Bert w bardzo szybkim tempie zdominował rynek NLP dzięki swojej wydajności i jakości rezultatów. Mimo to pojawiły się modele usprawniające go pod różnymi względami jak na przykład szybkość przetwarzania danych, czy poprawność wyników.\n",
        "\n",
        "\n",
        "**RoBERTa** [[8]](https://arxiv.org/abs/1907.11692) przedstawiony przez Facebook'a model jest wersją Bert'a z innym podejściem do jego treningu. RoBERTa nie podejmuje się Next Sentence Prediction, a zamiast tego przedstawia dynamiczne tokeny mask, które zmieniają się podczas treningu. Poza tym do treningu wykorzystano dziesięciokrotnie większy zasób danych. Mimo dużo większej mocy obliczeniowej używanej podczas treningu trwa on 4-5 razy dłużej, ale dzięki temu osiągnięto 2-20% trafniejsze wyniki niż tradycyjny Bert.\n",
        "\n",
        "\n",
        "**AlBERT** [[9]](https://arxiv.org/abs/1909.11942) wydany przez Google model mający aż 89% mniej parametrów niż standardowy Bert zachowując znikomą różnicę w poprawności wyników. AlBERT używa dwóch technik do optymalizacji swojej pracy: faktoryzacji danych oraz dzielenia parametrów między warstwami. Ze względu na przetwarzanie danych wyrazy zamienione w reprezentujące je wektory musiały mieć odpowiednio dopasowane wymiary, faktoryzacja pozwoliła na budowanie mniejszych wektorów i skalowanie wyniku. Dzielenie parametrów między warstwami powoduje największy spadek poprawności modelu, ale pozwala niemal ośmiokrotnie zmniejszyć ilość parametrów w modelu. \n",
        "\n",
        "\n",
        "**DistilBERT** [[5]](https://arxiv.org/abs/1910.01108) zaprezentowany przez HuggingFace model, który miał na celu zminimalizować rozmiar Bert'a i poprawić jego wydajność. Posiada on tylko połowę oryginalnych warstw, gdyż przyjmuje inne podejście zwane destylacją \n",
        "[[4]](https://arxiv.org/abs/1503.02531v1), która ma na celu przybliżenie wyniku Bert'a. Ogólny pomysł polega na tym, że gdy inna sieć neuronów (Bert) zostanie przetrenowana, jej wyniki można mniej więcej przewidzieć za pomocą innej mniejszej sieci. Jedną z funkcji optymalizacyjnych modelu DistilBERT jest dywergencja Kullbacka-Leiblera, która określa rozbieżność między dwoma rozkładami prawdopodobieństwa. Dzięki ograniczonej złożoności model ten trenuje się czterokrotnie szybciej zachowując 95% poprawności wyników w porównaniu z oryginalnym Bert'em.\n",
        "\n",
        "---\n",
        "\n",
        "### **Ciekawostki**\n",
        "\n",
        "**MegatronBERT** [[10]](https://arxiv.org/abs/1909.08053) - model bardzo niepraktyczny zaprojektowany przez firmę NVIDIA. Posiada 3.9 miliarda parametrów trenowany równolegle na 512 GPU utrzymując 15.1 PetaFlop'ów. Aby skorzystać z modelu potrzebny jest superkomputer, a poprawność wyników zwiększa się o niewiele punktów procentowych.\n",
        "\n",
        "**herBERT** \n",
        "[[13]](https://arxiv.org/abs/2005.00630) - Bert przetrenowany na polskim tekście"
      ]
    },
    {
      "cell_type": "markdown",
      "metadata": {
        "id": "-oUBsiPUKsCP"
      },
      "source": [
        "## <a name=\"WykorzystaneBiblioteki\"></a>__Wykorzystane biblioteki / narzędzia__\n",
        "\n",
        "Do naszej aplikacji użyliśmy bardzo popularnego frameworka \n",
        "[huggingface](https://huggingface.co),\n",
        "który zaopatrzył nas w gotowy bazowy model distilbert-uncased, gotowe\n",
        "funkcje przygotowujące dane do treningu oraz funkcje przeprowadzające\n",
        "operacje _fine-tune_, o których pisaliśmy w części teoretycznej projektu.\n",
        "\n",
        "Wyjściem naszego modelu są tensory z wartościami funkcji logitowej, tak więc\n",
        "sam rezultat musieliśmy dodatkowo przerobić. Aby to wykonać użyliśmy\n",
        "popularnego frameworka [pytorch](https://pytorch.org/).\n",
        "\n",
        "Nasza aplikacja wymagała również użycia innych bibliotek. Do klasyfikacji\n",
        "części mowy w wejściowym tekście użyliśmy bardzo popularnej biblioteki do\n",
        "zadań z dziedziny NLP: [nltk](https://www.nltk.org/).\n",
        "\n",
        "Interaktywne widgety zostały wygenerowane za pomocą biblioteki [ipywidgets](https://ipywidgets.readthedocs.io/en/latest/)."
      ]
    },
    {
      "cell_type": "markdown",
      "metadata": {
        "id": "lpLsK_JSK73x"
      },
      "source": [
        "# Praktyka\n",
        "\n",
        "Na potrzeby projektu stworzyliśmy 2 modele BERT poddane operacji fine-tune.\n",
        "\n",
        "[Link do kodu tworzącego modele](https://colab.research.google.com/drive/18EYy2SXvyCEE5WhUC6Y5lM0Rks1wMEp9?usp=sharing)"
      ]
    },
    {
      "cell_type": "markdown",
      "metadata": {
        "id": "t9LFkWH0LldN"
      },
      "source": [
        "## <a name=\"Aplikacja\"></a>**Aplikacja**\n",
        "---\n",
        "</br>\n",
        "\n",
        "### **Rozszerzony opis:**\n",
        "\n",
        "</br>\n",
        "\n",
        "#### **Proces tworzenia tej pracy:**\n",
        "\n",
        "Od początku mieliśmy dosyć niecodzienne podejście jeżeli chodzi o wykonanie\n",
        "naszego projektu. Nie wiedzieliśmy jak się za ten problem zabrać, tak\n",
        "więc błądziliśmy i testowaliśmy wiele różnych modeli z różnymi rezultatami.\n",
        "Pod koniec okazało się, że odnieśliśmy najlepsze rezultaty z podanym modelem BERT.\n",
        "\n",
        "#### **Napotkane problemy**\n",
        "* **modele są bardzo duże** - aby to rozwiązać modele udostępniliśmy za pomocą platformy hugging space, dzięki której nie musimy się martwić, że nasze modele o łącznym rozmiarze ok. 700 mb przepadną.\n",
        "* **modele są bardzo wolne** - rozwiązaliśmy to przez wybranie modelu nieco bardziej nastawionego na wydajność (DistilBERT) niżeli na jakość wyników. Dodatkowo poddajemy wyniki cachowaniu, dzięki czemu użytkownik czeka tylko raz\n",
        "na otrzymanie wyniku.\n",
        "* **modele zwracają uwagę na nieistotne elementy zdania** - jak zostało to opisane przez inną pracę naukową [[6]](https://arxiv.org/abs/1906.04341). Model BERT najczęściej zwraca uwagę na niestotne z naszego punktu widzenia części zdania \n",
        "(głównie na token początkowy i końcowy, ale sporo uwagi jest również zwracana zaimkom i spójnikom).\n",
        "\n",
        "    Dlatego określiliśmy nasze, heurystyczne kryterium doboru słów do zmiany.\n",
        "Za pomocą innej biblioteki szukamy słów, które są np. przymiotnikami i je maskujemy. Oczywiście nie jest to optymalna metoda, ale wydaje nam się, że efekt końcowy jest wystarczająco satysfakcjonujący.\n",
        "\n",
        "* **interaktywność** - ten problem okazał się bardzo prosty do rozwiązania. Odkryliśmy bibliotekę ipywidgets, która pozwala nam na tworzenie podstawowych, interaktywnych widgetów w środowisku juptera.\n"
      ]
    },
    {
      "cell_type": "code",
      "metadata": {
        "id": "6h-OFO5MDVci",
        "colab": {
          "base_uri": "https://localhost:8080/"
        },
        "outputId": "58378c93-bfc2-4115-ea34-9a12b22f0c45"
      },
      "source": [
        "!pip install ipywidgets transformers torch nltk &> /dev/null\n",
        "!jupyter nbextension enable --py widgetsnbextension &> /dev/null\n",
        "import nltk\n",
        "\n",
        "nltk.download('punkt')\n",
        "nltk.download('averaged_perceptron_tagger')"
      ],
      "execution_count": null,
      "outputs": [
        {
          "output_type": "stream",
          "text": [
            "[nltk_data] Downloading package punkt to /root/nltk_data...\n",
            "[nltk_data]   Unzipping tokenizers/punkt.zip.\n",
            "[nltk_data] Downloading package averaged_perceptron_tagger to\n",
            "[nltk_data]     /root/nltk_data...\n",
            "[nltk_data]   Unzipping taggers/averaged_perceptron_tagger.zip.\n"
          ],
          "name": "stdout"
        },
        {
          "output_type": "execute_result",
          "data": {
            "text/plain": [
              "True"
            ]
          },
          "metadata": {
            "tags": []
          },
          "execution_count": 1
        }
      ]
    },
    {
      "cell_type": "markdown",
      "metadata": {
        "id": "HupB4E9nukWd"
      },
      "source": [
        "### <a name=\"DeklaracjaModeli\"></a>Deklaracja modeli"
      ]
    },
    {
      "cell_type": "code",
      "metadata": {
        "id": "Os0Q3Ahl0J1i",
        "colab": {
          "base_uri": "https://localhost:8080/",
          "height": 507,
          "referenced_widgets": [
            "a936b488bd0c407dbdf95504c995366e",
            "bcb9031638064722af3aa122bc15dc4b",
            "474fc4314ce2452b8bcdf8fc656c8e11",
            "1bb2ebadc9614d76b5762e50b7e84ce8",
            "a310cd7ab68d4f8a935f6fa2446d00d0",
            "ba27f5c4ffb7489680d28ecf7951c6ea",
            "2d95b3c13aee46c694a8ce49a60cab5a",
            "442072f1973e47f4a170af7201cc7e64",
            "1506cfea33f04406a658276ca305761f",
            "9f63be42e544492f814149d317ed019e",
            "69e42fe103724cdba7ef803d1a719f05",
            "c572bc9081cf4f34b0093ac1fcff06c6",
            "3cc2c73713254ee68888be1769757462",
            "d1c6e47b79784e29a14b29d059450cd4",
            "25a5a63996a4414eb85b39d6b8457829",
            "003273e1fdd6425aa2010138631a6a15",
            "95b6312a822142be99cd28ab1036e06d",
            "3e958acd400e449780842a284ff505c6",
            "1edfa8a7a797422da4182410e701d876",
            "93b0241a9e50457493b81a8aee8925fd",
            "2a658320a1e841eaab5592249597445e",
            "cdf2a57cd7304dc48ae78abbabc37018",
            "024cae4d0c7f4d74a314a62e209819bb",
            "27a9385367da402fa9a99a743a7bded3",
            "e4e7ce9fae6c4b14b0443b8fd638a74b",
            "b658fda7d2f74b83994cea7138f830ad",
            "600632775fd942b6bfa443bd1cb488fa",
            "90b10c54b4734b9d848eb06dfb42a47f",
            "dfb03f50eebf44b3a7296ba295d1c0ee",
            "8af97591e71f4ca497d29a3a4e24aa85",
            "bb8940c7c53c4e36969fe69998acedc8",
            "2e47577a2ad64a98b478003cf0895aff",
            "8b5cfdf6e69f4aa08e84c41084a926f0",
            "18d10a100d04457d8b1115a4c57b37b8",
            "c77de0066955497e96cc82fc07caa254",
            "3a61ff94d7154ad8a837696baec6f45c",
            "e5219062d69c4ec18958e656f30e634c",
            "ad9c1767ae7e4db198765ed586e01d00",
            "f4048515a2dd4416a7879c249cdfdfa8",
            "e25baa6446b6427b85239ea87a359ec8",
            "3a6cce7cdf4248eb9f036921448d236f",
            "24da3442afb24083886f338880d757a3",
            "7fc561192bd142aa9a564ebbc9abce8f",
            "3af0f03bb71b40149a9e878ab70c80e3",
            "c198b54bb3ce4e1190f84a4da7cd2b70",
            "60a1133134534dcda642e7a9d4b8a081",
            "c493a35fdde846cda83b88153212ac72",
            "84046b15486f4028b4acb956505a39a5",
            "5327675bdc2845ad96240fd44956c350",
            "6316c9d64a7444ab9b2c56b3d4f9df3f",
            "6dbc55497e5d484387b6a4806ff77973",
            "40f2831a44ce41af81d4aa74e86e614a",
            "6ee474c6d00d4c108ec42302cd899ede",
            "942fd63b900a4d39babdf2ebdef74799",
            "67e22c17b94a4162a61264a812a7d878",
            "1c1542e576fe4138a302a71ad275e74b",
            "381d11097d5749448c8136b3a1080614",
            "87a31111d2e74a409bb2aa006a1de7e7",
            "33cc6c8c625a4f7dac3858b6ea0b8c9b",
            "3c6a3fa3222842e997d6a4d994d294d1",
            "16c961c4844742bb98cddc9773741d65",
            "d97c86b0c7e2421da47802a3298ef523",
            "2e024350977941288975acf85828a007",
            "2bff4c27f5ae4b21bc68eef0508e03a8",
            "876053783a74493ba3c241d391295ab8",
            "45e4d3408516418a8fbae66072acb238",
            "aed78a94b5174edc96bd483482318cdf",
            "e2a5e40ac1ae4412b791c8a0953a4545",
            "a3e7d97ecb1f411ab9106dd32a1c0d88",
            "031de7f44c714db58d9236c4e60d72da",
            "c326c1ddb88b462a8e5f8e1f61e38bc9",
            "5f085fa0e3ca4c2c8d474eeecfddb5f4",
            "e1708ade17324d5e902f239e28375375",
            "22205e44a21149a98cff3f8c70cf9c36",
            "b9e7ac93f86d4def996e828eff58f17d",
            "b854f4a6254b48c491777253f9806a01",
            "1d8e96f2576d40f291aaf33ad76e10cd",
            "210ba9eacbe147b991dd255ae8ca8d6c",
            "caa2789f6ca443de94dcb4dc3af9dc03",
            "299333deaf9146368e5931b8eb4fa14d"
          ]
        },
        "outputId": "6946bf39-6fa5-4404-801b-3fac64e40012"
      },
      "source": [
        "from transformers import (AutoTokenizer, \n",
        "                          AutoModelForMaskedLM,\n",
        "                          AutoModelForSequenceClassification)\n",
        "import torch\n",
        "\n",
        "device = torch.device('cuda') if torch.cuda.is_available() else torch.device('cpu')\n",
        "\n",
        "# model wytrenowany na negatywnie nastawionych danych\n",
        "negative_model = AutoModelForMaskedLM.from_pretrained(\n",
        "    \"michalwilk123/distilbert-imdb-negative\"\n",
        ").to(device)\n",
        "# model wytrenowany na pozytywnie nastawionych danych\n",
        "positive_model = AutoModelForMaskedLM.from_pretrained(\n",
        "    \"michalwilk123/distilbert-imdb-positive\"\n",
        ").to(device)\n",
        "tokenizer = AutoTokenizer.from_pretrained(\n",
        "    \"michalwilk123/distilbert-imdb-negative\",\n",
        "    use_fast=True\n",
        ")\n",
        "# model klasyfikujący nastrój zdania\n",
        "classif_model = AutoModelForSequenceClassification.from_pretrained(\n",
        "    \"textattack/bert-base-uncased-imdb\"\n",
        ").to(device)"
      ],
      "execution_count": null,
      "outputs": [
        {
          "output_type": "display_data",
          "data": {
            "application/vnd.jupyter.widget-view+json": {
              "model_id": "a936b488bd0c407dbdf95504c995366e",
              "version_minor": 0,
              "version_major": 2
            },
            "text/plain": [
              "HBox(children=(FloatProgress(value=0.0, description='Downloading', max=523.0, style=ProgressStyle(description_…"
            ]
          },
          "metadata": {
            "tags": []
          }
        },
        {
          "output_type": "stream",
          "text": [
            "\n"
          ],
          "name": "stdout"
        },
        {
          "output_type": "display_data",
          "data": {
            "application/vnd.jupyter.widget-view+json": {
              "model_id": "1506cfea33f04406a658276ca305761f",
              "version_minor": 0,
              "version_major": 2
            },
            "text/plain": [
              "HBox(children=(FloatProgress(value=0.0, description='Downloading', max=267985760.0, style=ProgressStyle(descri…"
            ]
          },
          "metadata": {
            "tags": []
          }
        },
        {
          "output_type": "stream",
          "text": [
            "\n"
          ],
          "name": "stdout"
        },
        {
          "output_type": "display_data",
          "data": {
            "application/vnd.jupyter.widget-view+json": {
              "model_id": "95b6312a822142be99cd28ab1036e06d",
              "version_minor": 0,
              "version_major": 2
            },
            "text/plain": [
              "HBox(children=(FloatProgress(value=0.0, description='Downloading', max=523.0, style=ProgressStyle(description_…"
            ]
          },
          "metadata": {
            "tags": []
          }
        },
        {
          "output_type": "stream",
          "text": [
            "\n"
          ],
          "name": "stdout"
        },
        {
          "output_type": "display_data",
          "data": {
            "application/vnd.jupyter.widget-view+json": {
              "model_id": "e4e7ce9fae6c4b14b0443b8fd638a74b",
              "version_minor": 0,
              "version_major": 2
            },
            "text/plain": [
              "HBox(children=(FloatProgress(value=0.0, description='Downloading', max=267985760.0, style=ProgressStyle(descri…"
            ]
          },
          "metadata": {
            "tags": []
          }
        },
        {
          "output_type": "stream",
          "text": [
            "\n"
          ],
          "name": "stdout"
        },
        {
          "output_type": "display_data",
          "data": {
            "application/vnd.jupyter.widget-view+json": {
              "model_id": "8b5cfdf6e69f4aa08e84c41084a926f0",
              "version_minor": 0,
              "version_major": 2
            },
            "text/plain": [
              "HBox(children=(FloatProgress(value=0.0, description='Downloading', max=231508.0, style=ProgressStyle(descripti…"
            ]
          },
          "metadata": {
            "tags": []
          }
        },
        {
          "output_type": "stream",
          "text": [
            "\n"
          ],
          "name": "stdout"
        },
        {
          "output_type": "display_data",
          "data": {
            "application/vnd.jupyter.widget-view+json": {
              "model_id": "3a6cce7cdf4248eb9f036921448d236f",
              "version_minor": 0,
              "version_major": 2
            },
            "text/plain": [
              "HBox(children=(FloatProgress(value=0.0, description='Downloading', max=466081.0, style=ProgressStyle(descripti…"
            ]
          },
          "metadata": {
            "tags": []
          }
        },
        {
          "output_type": "stream",
          "text": [
            "\n"
          ],
          "name": "stdout"
        },
        {
          "output_type": "display_data",
          "data": {
            "application/vnd.jupyter.widget-view+json": {
              "model_id": "5327675bdc2845ad96240fd44956c350",
              "version_minor": 0,
              "version_major": 2
            },
            "text/plain": [
              "HBox(children=(FloatProgress(value=0.0, description='Downloading', max=112.0, style=ProgressStyle(description_…"
            ]
          },
          "metadata": {
            "tags": []
          }
        },
        {
          "output_type": "stream",
          "text": [
            "\n"
          ],
          "name": "stdout"
        },
        {
          "output_type": "display_data",
          "data": {
            "application/vnd.jupyter.widget-view+json": {
              "model_id": "381d11097d5749448c8136b3a1080614",
              "version_minor": 0,
              "version_major": 2
            },
            "text/plain": [
              "HBox(children=(FloatProgress(value=0.0, description='Downloading', max=291.0, style=ProgressStyle(description_…"
            ]
          },
          "metadata": {
            "tags": []
          }
        },
        {
          "output_type": "stream",
          "text": [
            "\n"
          ],
          "name": "stdout"
        },
        {
          "output_type": "display_data",
          "data": {
            "application/vnd.jupyter.widget-view+json": {
              "model_id": "876053783a74493ba3c241d391295ab8",
              "version_minor": 0,
              "version_major": 2
            },
            "text/plain": [
              "HBox(children=(FloatProgress(value=0.0, description='Downloading', max=511.0, style=ProgressStyle(description_…"
            ]
          },
          "metadata": {
            "tags": []
          }
        },
        {
          "output_type": "stream",
          "text": [
            "\n"
          ],
          "name": "stdout"
        },
        {
          "output_type": "display_data",
          "data": {
            "application/vnd.jupyter.widget-view+json": {
              "model_id": "e1708ade17324d5e902f239e28375375",
              "version_minor": 0,
              "version_major": 2
            },
            "text/plain": [
              "HBox(children=(FloatProgress(value=0.0, description='Downloading', max=437985387.0, style=ProgressStyle(descri…"
            ]
          },
          "metadata": {
            "tags": []
          }
        },
        {
          "output_type": "stream",
          "text": [
            "\n"
          ],
          "name": "stdout"
        }
      ]
    },
    {
      "cell_type": "markdown",
      "metadata": {
        "id": "Qxfe2vdg0qou"
      },
      "source": [
        "### Określenie jakie części mowy nas interesują"
      ]
    },
    {
      "cell_type": "code",
      "metadata": {
        "id": "1jxV6hQZ0Q1h"
      },
      "source": [
        "import sys\n",
        "import nltk\n",
        "from enum import Enum\n",
        "from dataclasses import dataclass\n",
        "\n",
        "\n",
        "# zmieniane wyrazy poukładane wg ich 'ważności'\n",
        "# poniższe ciągi liter są nazywane tagami POS\n",
        "token_order = [\n",
        "    \"JJ\", # przymiotnik\n",
        "    \"JJR\", # inny przymiotnik\n",
        "    \"JJS\", # przymiotnik hiperbola\n",
        "    \"RB\", # przyimek czyli slowo 'not'\n",
        "    \"RBS\", # inny przyimek\n",
        "    \"RBR\", # przyimek informujacy o intesnywności np. \"bardzo\"\n",
        "    \"PDT\", # inny przymiotnik\n",
        "    \"RP\", # partykuła\n",
        "    \"VB\", # czasownik\n",
        "    \"VBD\", # czasownik czas przeszły\n",
        "    \"VBG\", # czasownik czas present participle\n",
        "    \"VBN\", # czasownik czas past participle\n",
        "    \"VBP\", # czasownik inny\n",
        "    \"NNS\", # rzeczownik\n",
        "    \"NNPS\", # rzeczownik plural\n",
        "    \"VBZ\", # czasownik inny\n",
        "    \"CC\", # spójnik\n",
        "    \"PRP\", # zaimek osobowy\n",
        "    \"IN\",\n",
        "]\n",
        "\n",
        "# w jaki sposób modyfikujemy zdanie\n",
        "TRANSFORM_TYPE = Enum(\"TRANSFORM_TYPE\", [\"POSITIVE\", \"NEGATIVE\"])\n",
        "\n",
        "def negate_transform(en:Enum):\n",
        "    return TRANSFORM_TYPE.POSITIVE if en is TRANSFORM_TYPE.NEGATIVE else \\\n",
        "        TRANSFORM_TYPE.POSITIVE\n",
        "\n",
        "# reprezentacja wyrazu\n",
        "@dataclass\n",
        "class WordStructure:\n",
        "    idx:int\n",
        "    word:str\n",
        "    pos_token:str\n",
        "    transform_type:Enum\n",
        "\n",
        "# daj słowa które będą podmieniane, sortując wg ich ważności\n",
        "def get_relevant_tokens(sentence:str, t_type:Enum):\n",
        "    # podział zdania na kolejne słowa i przydzielenie tagów POS\n",
        "    tokens = nltk.pos_tag(tokenizer.tokenize(sentence))\n",
        "    # filtruj z wyrazów które nie mają znaczenia\n",
        "    tokens = list(filter(\n",
        "        lambda tt: tt.pos_token in token_order,\n",
        "        [WordStructure(i, *el, t_type) for i, el in enumerate(tokens)]\n",
        "    ))\n",
        "\n",
        "    # wewnętrzna struktura wyrazu:\n",
        "    # (index, słowo, pos_token, czy_zamaskowany)\n",
        "    # sortujemy wg istotnosci tokenu\n",
        "    tokens.sort(key=lambda el: token_order.index(el.pos_token))\n",
        "\n",
        "    return tokens"
      ],
      "execution_count": null,
      "outputs": []
    },
    {
      "cell_type": "markdown",
      "metadata": {
        "id": "2LtSDZJV2K0S"
      },
      "source": [
        "### **Wykorzystanie modeli przetrenowanych w aplikacji**\n",
        "---\n",
        "</br>\n",
        "\n",
        "**Zmieniamy kolejne wyrazy w tekście dzięki wymyślonej przez nas heurystyce.**\n",
        "\n",
        "* Na początku wypisujemy jakie słowa w zdaniu będą miały znaczenie w decydowaniu o nastawieniu zdania (_patrz powyższa lista token_order_). Z podaną kolejnością zmieniamy kolejne wyrazy w zdaniu.\n",
        "</br>\n",
        "\n",
        "* Deklarujemy 100 najlepszych kandydatów na zajęcie znaczących słów.\n",
        "Często jednak model dobierający tych kandydatów może się mylić. \n",
        "\n",
        "    Jak zauważyliśmy model BERT bardziej zwraca uwagę na to, aby wybrane słowo było możliwie najlepiej dopasowane do kontekstu, a nie na to aby dopasować najbardziej odpowiednie słowo ze swojego zbioru danych. Istnieją również inne powody tego zachowania, jak na przykład niewystarczająca ilość danych do treningu, bądź nieprawidłowe dane wejściowe.\n",
        "\n",
        "    Aby ten problem zmniejszyć, dodajemy 3 model: **klasyfikator nastroju**\n",
        "</br>\n",
        "\n",
        "* Trzeci model sprawdza, czy dodane słowo poprawnie zmieni nam wartość nastroju zdania. \n",
        "\n",
        "    * Jeżeli tak, to zwracamy i wyświetlamy takie zdanie.\n",
        "    * Jeżeli nie, testujemy kolejnych kandydatów, czy ci nie dadzą lepszego rezultatu.\n",
        "\n",
        "Oczywiście metodę możnaby jeszcze usprawnić na wiele różnych sposobów, lecz na ten moment obecny rezultat jest naszym zdaniem akceptowalny."
      ]
    },
    {
      "cell_type": "code",
      "metadata": {
        "id": "d1MdqYYj0VrB",
        "colab": {
          "base_uri": "https://localhost:8080/",
          "height": 239
        },
        "outputId": "b43e98cd-7647-42f3-fedd-d8ec25c44f2f"
      },
      "source": [
        "from torch.nn import functional as F\n",
        "\n",
        "def get_current_polarity(sentence):\n",
        "    # określanie obecnego nastroju zdania\n",
        "    outputs_n = classif_model(**tokenizer(sentence, return_tensors = \"pt\"))\n",
        "    sof = round(F.softmax(outputs_n['logits'], dim=-1).tolist()[0][1],4)\n",
        "    print(\"Polarity: \", sof)\n",
        "    return sof\n",
        "\n",
        "\n",
        "def get_model_predictions(word_list:str, t_type:Enum) -> None:\n",
        "    \"\"\"\n",
        "    Dostaje liste z wyrazami oraz maskami. Zdanie jest modyfikowane poprzez \n",
        "    wypełnianie jego zamaskowanych wyrazów zgodnie z podanym typem transformacji\n",
        "    \"\"\"\n",
        "    # przygotowujemy dane do zaserwowania naszemu modelowi\n",
        "    inputs = tokenizer(tokenizer.convert_tokens_to_string(word_list), return_tensors = \"pt\").to(device)\n",
        "    # szukamy indeksow pustych tokenow w zdaniu\n",
        "    masked_idxs = torch.where(inputs[\"input_ids\"][0] == tokenizer.mask_token_id)[0].to(device)\n",
        "    ori_list = list(\n",
        "        map(\n",
        "            lambda el: el[0], \n",
        "            filter(\n",
        "                lambda x: x[1] == tokenizer.mask_token,\n",
        "                enumerate(word_list)\n",
        "            )\n",
        "        )\n",
        "    )\n",
        "\n",
        "    # wybór odpowiedniego modelu\n",
        "    if t_type is TRANSFORM_TYPE.POSITIVE:\n",
        "        outputs = positive_model(**inputs)\n",
        "    elif t_type is TRANSFORM_TYPE.NEGATIVE:\n",
        "        outputs = negative_model(**inputs)\n",
        "    else: assert False\n",
        "    \n",
        "    # określamy funkcja softmax jaki wyraz ma największe prawdopodobieństwo\n",
        "    # pojawienia sie w wolnym miejscu\n",
        "    for pred_idx, ori_idx in zip(masked_idxs, ori_list):\n",
        "        end_layer = outputs.logits[0, pred_idx, :]\n",
        "        assert word_list[ori_idx] == tokenizer.mask_token, \"masking not masked word!!!\"\n",
        "        # tworzymy liste 100 slow kandydujących i przypisujemy im tagi POS\n",
        "        candidates = nltk.pos_tag(\n",
        "            tokenizer.convert_ids_to_tokens(torch.topk(end_layer, 100, dim = -1)[1])\n",
        "        )\n",
        "        current_polarity = None\n",
        "        \n",
        "        for cand_word in filter(lambda el: el[1] in token_order, candidates):\n",
        "            word_list[ori_idx] = cand_word[0]\n",
        "            new_polar = get_current_polarity(\n",
        "                tokenizer.convert_tokens_to_string(word_list)\n",
        "            )\n",
        "            if current_polarity is None:\n",
        "                current_polarity = new_polar\n",
        "                continue\n",
        "            # kończymy dodawanie jeżeli wynik jest poprawiony\n",
        "            # jeżeli wynik jest tak dobry że raczej nie jesteśmy w stanie go\n",
        "            # poprawić to kończymy z obecnym wynikiem\n",
        "            if t_type is TRANSFORM_TYPE.POSITIVE:\n",
        "                if new_polar > current_polarity or new_polar > 0.99:\n",
        "                    break\n",
        "            elif t_type is TRANSFORM_TYPE.NEGATIVE:\n",
        "                if new_polar < current_polarity or new_polar < 0.01:\n",
        "                    break\n",
        "        \n",
        "\n",
        "test_sentence = (\n",
        "    \"I absolutely [MASK] this movie! I do think it is [MASK].\"\n",
        "    \" Watching this film was a [MASK] experience for me and my \"\n",
        "    \"friends on this rainy afternoon. The acting was also very [MASK] made.\"\n",
        ")\n",
        "test_sentence_tok = tokenizer.tokenize(test_sentence)\n",
        "\n",
        "get_model_predictions(test_sentence_tok, TRANSFORM_TYPE.NEGATIVE)\n",
        "tokenizer.convert_tokens_to_string(test_sentence_tok)"
      ],
      "execution_count": null,
      "outputs": [
        {
          "output_type": "stream",
          "text": [
            "Polarity:  0.9987\n",
            "Polarity:  0.9991\n",
            "Polarity:  0.9986\n",
            "Polarity:  0.9984\n",
            "Polarity:  0.9986\n",
            "Polarity:  0.9975\n",
            "Polarity:  0.997\n",
            "Polarity:  0.9973\n",
            "Polarity:  0.997\n",
            "Polarity:  0.9968\n",
            "Polarity:  0.9953\n",
            "Polarity:  0.9843\n"
          ],
          "name": "stdout"
        },
        {
          "output_type": "execute_result",
          "data": {
            "application/vnd.google.colaboratory.intrinsic+json": {
              "type": "string"
            },
            "text/plain": [
              "'i absolutely loved this movie! i do think it is great. watching this film was a good experience for me and my friends on this rainy afternoon. the acting was also very poorly made.'"
            ]
          },
          "metadata": {
            "tags": []
          },
          "execution_count": 4
        }
      ]
    },
    {
      "cell_type": "code",
      "metadata": {
        "id": "rAk3JAC20dqS"
      },
      "source": [
        "# krok zmiany nastroju tekstu. Ta funkcja jest wywoływana po kliknięciu w przycisk\n",
        "def transform_polarity(splited_sentence, relevant_tokens, t_type:Enum):\n",
        "        # jezeli t_type jest pozytywny -> zmien n tokenow na negatywne\n",
        "        number_of_samples = 1 # round(len(relevant_tokens) / 6 + 0.5)\n",
        "        samples = list(filter(lambda el: el.transform_type is not t_type, relevant_tokens))[:number_of_samples]\n",
        "\n",
        "        # każdemu nowo usuniętemu wyrazowi przypisz maske\n",
        "        for s in samples:\n",
        "            s.transform_type = t_type\n",
        "            splited_sentence[s.idx] = tokenizer.mask_token\n",
        "        \n",
        "        get_model_predictions(splited_sentence, t_type)\n",
        "\n",
        "\n",
        "class SentenceStructure:\n",
        "    \"\"\"\n",
        "    Określenie struktury zdania. Ze zdania tworzymy liste tokentów\n",
        "    \"\"\"\n",
        "    def __init__(self, sentence:str):\n",
        "        self.sentence = sentence\n",
        "        self.split_sentence = tokenizer.tokenize(sentence)\n",
        "\n",
        "        self.start_polar = get_current_polarity(self.__repr__())\n",
        "        # obecna polaryzacja\n",
        "        self.sentiment = TRANSFORM_TYPE.POSITIVE if self.start_polar > 0.5 \\\n",
        "            else TRANSFORM_TYPE.NEGATIVE\n",
        "\n",
        "        self.relevant_tokens = get_relevant_tokens(sentence, self.sentiment)\n",
        "    \n",
        "    def __repr__(self):\n",
        "        return tokenizer.convert_tokens_to_string(self.split_sentence)"
      ],
      "execution_count": null,
      "outputs": []
    },
    {
      "cell_type": "markdown",
      "metadata": {
        "id": "0n9SuSBn2YPN"
      },
      "source": [
        "### Część interaktywna\n",
        "\n",
        "Poniżej podane jest miejsce do wpisania naszego zdania do zmiany transformacji."
      ]
    },
    {
      "cell_type": "code",
      "metadata": {
        "id": "7N_Uw2y20gWX",
        "colab": {
          "base_uri": "https://localhost:8080/",
          "height": 235,
          "referenced_widgets": [
            "9e795f262a034d24adb5f375ed83f503",
            "3cf1fdfba00a4567ab47c52876400142",
            "3572ec896d734c9bb77c99caa0cf7340",
            "e2f639869fd74b8798ded32079519a88",
            "1ba095057da041b8805ddcca32a7cc85",
            "b7ea4248f46e4356a3654f1fd03411ce",
            "6efaafe3e94449a0801cfc341fe0845e",
            "b48c313af1e44bc584ffc619b2629295",
            "959b2fe8d7474194aec3771b68144764",
            "939fd9b4782242d39ecb6b6c7aa9c1d0",
            "4de9cf50735946bb80eb9c189e51a546",
            "3ca87c59a2c04a0c9c2061d501ed9f98"
          ]
        },
        "outputId": "1d0dd6e9-7959-4ac0-f0b5-779dc41f0bec"
      },
      "source": [
        "from ipywidgets import interact, IntSlider, Textarea, Button, Output\n",
        "\n",
        "# przykładowe zdanie\n",
        "sentence = \"I absolutely love this movie! I do think it is great. Watching this film was a great experience for me and my friends on this rainy afternoon. The acting was also very well made.\"\n",
        "out = Output()\n",
        "\n",
        "@interact(\n",
        "    inner=Textarea(\n",
        "        value=sentence,\n",
        "        placeholder='',\n",
        "        description='Tekst:',\n",
        "        disabled=False,\n",
        "    )\n",
        ")\n",
        "def choose_sentence(inner:str):\n",
        "    global sentence\n",
        "    sentence = inner\n",
        "\n",
        "\n",
        "confirm_button = Button(description=\"Zatwierdz zdanie\")\n",
        "sentence_obj = None\n",
        "current_sentence = None\n",
        "\n",
        "def on_button_clicked(b):\n",
        "    global current_sentence, sentence_obj\n",
        "    with out:\n",
        "        out.clear_output()\n",
        "        sentence_obj = SentenceStructure(sentence)\n",
        "\n",
        "confirm_button.on_click(on_button_clicked)\n",
        "\n",
        "display(confirm_button)\n",
        "display(out)"
      ],
      "execution_count": null,
      "outputs": [
        {
          "output_type": "display_data",
          "data": {
            "application/vnd.jupyter.widget-view+json": {
              "model_id": "9e795f262a034d24adb5f375ed83f503",
              "version_minor": 0,
              "version_major": 2
            },
            "text/plain": [
              "interactive(children=(Textarea(value='I absolutely love this movie! I do think it is great. Watching this film…"
            ]
          },
          "metadata": {
            "tags": []
          }
        },
        {
          "output_type": "display_data",
          "data": {
            "application/vnd.jupyter.widget-view+json": {
              "model_id": "b48c313af1e44bc584ffc619b2629295",
              "version_minor": 0,
              "version_major": 2
            },
            "text/plain": [
              "Button(description='Zatwierdz zdanie', style=ButtonStyle())"
            ]
          },
          "metadata": {
            "tags": []
          }
        },
        {
          "output_type": "display_data",
          "data": {
            "application/vnd.jupyter.widget-view+json": {
              "model_id": "4de9cf50735946bb80eb9c189e51a546",
              "version_minor": 0,
              "version_major": 2
            },
            "text/plain": [
              "Output()"
            ]
          },
          "metadata": {
            "tags": []
          }
        }
      ]
    },
    {
      "cell_type": "code",
      "metadata": {
        "id": "d_VeIiRx0iqI",
        "colab": {
          "base_uri": "https://localhost:8080/",
          "height": 166,
          "referenced_widgets": [
            "9dd2f5bb24ec416daa04ad812229bc9b",
            "8cc8f878ada34510a4589d165f42f335",
            "d17a2b69f9ae4e3fa34867afed0624dc",
            "c7b7b4c4e02c4036b1f595dc0a731c2e",
            "4e055075546c426aa6f59000581bc187",
            "27377db4bb20427e97c9a1c9d59f5a92",
            "9173dc015d8442e88aa844809f48a6d4",
            "fceba54050874b6397f4112d9b3197db"
          ]
        },
        "outputId": "5f706716-5463-4b7c-f0b6-d119983f2ba0"
      },
      "source": [
        "from functools import lru_cache\n",
        "\n",
        "polarity_score = 50\n",
        "sentence_out = Output()\n",
        "t_type = None\n",
        "\n",
        "positive_button = Button(description=\"Bardziej pozytywne\")\n",
        "negative_button = Button(description=\"Bardziej negatywne\")\n",
        "\n",
        "@lru_cache()\n",
        "def get_morphed_sentence(polarity_score):\n",
        "    transform_polarity(sentence_obj.split_sentence, sentence_obj.relevant_tokens, t_type)\n",
        "    return sentence_obj.__repr__()\n",
        "\n",
        "def polarize_up(btn):\n",
        "    global sentence_obj, polarity_score, t_type\n",
        "    if polarity_score >= 100:\n",
        "        return\n",
        "    \n",
        "    polarity_score += 1\n",
        "    with sentence_out:\n",
        "        sentence_out.clear_output()\n",
        "        t_type = TRANSFORM_TYPE.POSITIVE\n",
        "        print(\n",
        "            f\"Score: {polarity_score}: {TRANSFORM_TYPE.POSITIVE}\\n\",\n",
        "            get_morphed_sentence(polarity_score)\n",
        "        )\n",
        "\n",
        "def polarize_down(btn):\n",
        "    global sentence_obj, polarity_score, t_type\n",
        "    if polarity_score <= 0:\n",
        "        return\n",
        "        \n",
        "    polarity_score -= 1\n",
        "    with sentence_out:\n",
        "        sentence_out.clear_output()\n",
        "        t_type = TRANSFORM_TYPE.NEGATIVE\n",
        "        print(\n",
        "            f\"Score: {polarity_score} {TRANSFORM_TYPE.NEGATIVE}\\n\",\n",
        "            get_morphed_sentence(polarity_score)\n",
        "        )\n",
        "\n",
        "positive_button.on_click(polarize_up)\n",
        "negative_button.on_click(polarize_down)\n",
        "\n",
        "with sentence_out:\n",
        "    print(sentence_obj)\n",
        "\n",
        "display(positive_button)\n",
        "display(negative_button)\n",
        "display(sentence_out)"
      ],
      "execution_count": null,
      "outputs": [
        {
          "output_type": "display_data",
          "data": {
            "application/vnd.jupyter.widget-view+json": {
              "model_id": "9dd2f5bb24ec416daa04ad812229bc9b",
              "version_minor": 0,
              "version_major": 2
            },
            "text/plain": [
              "Button(description='Bardziej pozytywne', style=ButtonStyle())"
            ]
          },
          "metadata": {
            "tags": []
          }
        },
        {
          "output_type": "display_data",
          "data": {
            "application/vnd.jupyter.widget-view+json": {
              "model_id": "c7b7b4c4e02c4036b1f595dc0a731c2e",
              "version_minor": 0,
              "version_major": 2
            },
            "text/plain": [
              "Button(description='Bardziej negatywne', style=ButtonStyle())"
            ]
          },
          "metadata": {
            "tags": []
          }
        },
        {
          "output_type": "display_data",
          "data": {
            "application/vnd.jupyter.widget-view+json": {
              "model_id": "9173dc015d8442e88aa844809f48a6d4",
              "version_minor": 0,
              "version_major": 2
            },
            "text/plain": [
              "Output()"
            ]
          },
          "metadata": {
            "tags": []
          }
        }
      ]
    },
    {
      "cell_type": "markdown",
      "metadata": {
        "id": "cjA05k6hLALE"
      },
      "source": [
        "# Podsumowanie"
      ]
    },
    {
      "cell_type": "markdown",
      "metadata": {
        "id": "m5HteWVcLGPv"
      },
      "source": [
        "## <a name=\"OcenaAplikacji\"></a>Ocena aplikacji\n",
        "Zaimplementowane modele uczone są na bardzo ograniczonej ilości danych, co wyraźnie przekłada się na zwracane przez nie wyniki i szybki zanik powiązania między proponowanymi przez nie wyrazami, a docelową wartością polaryzacji. \n",
        "\n",
        "Model klasyfikatora ma wyraźną tendencję do dawania skrajnych ocen, dlatego największa widoczna różnica przy zmianie polaryzacji zdania ma miejsce w przedziale score od 30 do 50, poza tym przedziałem zdania zaproponowane przez model pozytywny i negatywny szybko zbiegają się do odpowiednio maksymalnie pozytywnie lub negatywnie spolaryzowanej formy, a więc zmiana czynnika score nie wpływa już na zdanie. \n",
        "\n",
        "Klasyfikator części mowy również jest niedoskonałym rozwiązaniem, gdyż wiele wyrazów w języku angielskim mimo jednakowej pisowni może zmieniać swoją funkcję w zdaniu w zależności od kontekstu, nie wspominając o możliwych wystąpieniach określeń składających się z więcej niż jednego wyrazu.\n",
        "\n",
        "Aplikacja działa zadowalająco na miarę projektu studenckiego, ale na pewno pozostawia wiele pola do optymalizacji i dodatkowego treningu."
      ]
    },
    {
      "cell_type": "markdown",
      "metadata": {
        "id": "aibY3ZHALGEv"
      },
      "source": [
        "## <a name=\"OcenaProjektu\"></a>Ocena projektu\n",
        "\n",
        "Nasza aplikacja była przykładem, że takie modele mogą być naprawdę przydatne.\n",
        "Responsywne sterowanie nastrojem arbitralnego tekstu byłoby niegdyś zapewne bardzo trudnym (jeżeli nie niemożliwym) zadaniem.\n",
        "\n",
        "Dzisiejszy rozwój technologii oraz infrastruktury wokół samej branży ML sprawia, że jako studenci jesteśmy w stanie napisać tak rozwiniętą aplikacje w ograniczonym czasie, przy zerowym wkładzie własnym.\n",
        "\n",
        "Modele przetwarzania językowego mają wiele zastosowań, a dzisiejszy rozwój technologii daje nam sporo nadziei, że kolejne pokolenie studentów będzie w stanie napisać aplikacje rozwiązującą jeszcze bardziej złożony problem za pomocą jeszcze lepszych narzędzi."
      ]
    },
    {
      "cell_type": "markdown",
      "metadata": {
        "id": "I-k8oswjLqq8"
      },
      "source": [
        "## <a name=\"PrzyszloscModeliTransformer\"></a>Przyszłość modeli Transformer\n",
        "Przedstawione w 2017 pierwsze modele transformerów zrewolucjonizowały środowisko NLP swoją wydajnością i sposobem analizy danych. Od tamtego czasu stoją w samym centrum badań z przetwarzania języka naturalnego. Nowe pomysły pojawiają się praktycznie co miesiąc, starając się w różny sposób usprawnić i udoskonalić system.\n",
        "\n",
        "Przełomowe rozwiązania prezentowane są w krótkich odstępach czasu również bardzo często przez wielkie korporacje jak Google czy Facebook, co tylko podkreśla jak bardzo praktyczna jest ta gałąź sztucznej inteligencji.\n",
        "\n",
        "Oglądając dotychczasowe tempo rozwoju, możemy zaryzykować stwierdzeniem, że transformery zostaną jeszcze z nami przez jakiś czas, wciąż ewoluując i zmieniając swoją formę.\n",
        "\n",
        "Jednocześnie nie możemy wykluczyć, że ta metoda nie zostanie nagle niedługo wyparta przez kolejną innowację w dziedzinie nauki."
      ]
    },
    {
      "cell_type": "markdown",
      "metadata": {
        "id": "lGFIrw8aLvv1"
      },
      "source": [
        "## <a name=\"Bibliografia\"></a>__Bibliografia__\n",
        "\n",
        "[[1] *Attention Is All You Need*](https://arxiv.org/abs/1706.03762)\n",
        "\n",
        "[[2] *Efficient Estimation of Word Representations in Vector Space*](https://arxiv.org/abs/1301.3781)\n",
        "\n",
        "[[3] *BERT: Pre-training of Deep Bidirectional Transformers for Language Understanding*](https://arxiv.org/abs/1810.04805)\n",
        "\n",
        "[[4] *Distilling the Knowledge in a Neural Network*](https://arxiv.org/abs/1503.02531v1)\n",
        "\n",
        "[[5] *DistilBERT, a distilled version of BERT: smaller, faster, cheaper and lighter*](https://arxiv.org/abs/1910.01108)\n",
        "\n",
        "[[6] *What Does BERT Look At? An Analysis of BERT's Attention*](https://arxiv.org/abs/1906.04341)\n",
        "\n",
        "[[7] *LambdaNetworks: Modeling Long-Range Interactions Without Attention*](https://arxiv.org/abs/2102.08602v1)\n",
        "\n",
        "[[8] *RoBERTa: A Robustly Optimized BERT Pretraining Approach*](https://arxiv.org/abs/1907.11692)\n",
        "\n",
        "[[9] *ALBERT: A Lite BERT for Self-supervised Learning of Language Representations*](https://arxiv.org/abs/1909.11942)\n",
        "\n",
        "[[10] *Megatron-LM: Training Multi-Billion Parameter Language Models Using Model Parallelism*](https://arxiv.org/abs/1909.08053)\n",
        "\n",
        "[[11] *Language Models are Unsupervised Multitask Learners*](https://d4mucfpksywv.cloudfront.net/better-language-models/language_models_are_unsupervised_multitask_learners.pdf)\n",
        "\n",
        "[[12] *Release Strategies and the Social Impacts of Language Models*](https://arxiv.org/abs/1908.09203)\n",
        "\n",
        "[[13] *KLEJ: Comprehensive Benchmark for Polish Language Understanding*](https://arxiv.org/abs/2005.00630)"
      ]
    }
  ]
}